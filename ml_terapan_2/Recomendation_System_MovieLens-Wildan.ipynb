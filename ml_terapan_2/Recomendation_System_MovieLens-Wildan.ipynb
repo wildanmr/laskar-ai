{
 "cells": [
  {
   "cell_type": "markdown",
   "id": "a51aab2d",
   "metadata": {},
   "source": [
    "# Proyek Akhir Sistem Rekomendasi Film: MovieLens 100K\n",
    "---\n",
    "* **Nama:** Wildan Mufid Ramadhan\n",
    "* **Email:** wildan.20nov@gmail.com\n",
    "* **Dicoding ID:** wildan.20nov@gmail.com\n",
    "\n",
    "## Project Overview\n",
    "Proyek ini bertujuan untuk membangun sistem rekomendasi film menggunakan dataset MovieLens. Sistem rekomendasi sangat penting dalam industri hiburan modern karena membantu pengguna menemukan konten baru yang relevan, meningkatkan kepuasan pengguna, dan mendorong interaksi dengan platform. Dengan semakin banyaknya pilihan film yang tersedia, sistem rekomendasi menjadi krusial untuk mengatasi masalah kelebihan informasi dan menyajikan pengalaman yang dipersonalisasi kepada setiap pengguna.\n",
    "\n",
    "## Business Understanding\n",
    "### Problem Statements\n",
    "Pengguna seringkali kesulitan menemukan film yang sesuai dengan preferensi mereka di antara ribuan film yang tersedia. Hal ini dapat menyebabkan pengalaman pengguna yang kurang memuaskan dan potensi kehilangan minat terhadap platform.\n",
    "\n",
    "### Goals\n",
    "Tujuan dari proyek ini adalah untuk mengembangkan sistem rekomendasi film yang mampu menyarankan film-film yang relevan kepada pengguna berdasarkan riwayat tontonan dan preferensi mereka, sehingga meningkatkan pengalaman pengguna dan retensi.\n",
    "\n",
    "### Solution Approach\n",
    "Dalam proyek ini, kami akan mengimplementasikan dua pendekatan sistem rekomendasi yang berbeda: Collaborative Filtering dan Content-Based Filtering. \n",
    "* Collaborative Filtering akan menggunakan algoritma LightFM, yang bekerja dengan menganalisis interaksi pengguna-item untuk menemukan pola dan kesamaan. \n",
    "* Content-Based Filtering akan merekomendasikan item berdasarkan atribut item itu sendiri, seperti genre film, dengan menghitung kesamaan antar item.\n"
   ]
  },
  {
   "cell_type": "markdown",
   "id": "f4a899a4",
   "metadata": {},
   "source": [
    "## Download and Load Dataset"
   ]
  },
  {
   "cell_type": "code",
   "execution_count": 2,
   "id": "a767d289",
   "metadata": {},
   "outputs": [
    {
     "name": "stdout",
     "output_type": "stream",
     "text": [
      "  % Total    % Received % Xferd  Average Speed   Time    Time     Time  Current\n",
      "                                 Dload  Upload   Total   Spent    Left  Speed\n",
      "100  955k  100  955k    0     0   415k      0  0:00:02  0:00:02 --:--:--  415k\n",
      "Archive:  ml-latest-small.zip\n",
      "   creating: ./data/ml-latest-small/\n",
      "  inflating: ./data/ml-latest-small/links.csv  \n",
      "  inflating: ./data/ml-latest-small/tags.csv  \n",
      "  inflating: ./data/ml-latest-small/ratings.csv  \n",
      "  inflating: ./data/ml-latest-small/README.txt  \n",
      "  inflating: ./data/ml-latest-small/movies.csv  \n"
     ]
    }
   ],
   "source": [
    "!curl -L -o ./ml-latest-small.zip https://files.grouplens.org/datasets/movielens/ml-latest-small.zip\n",
    "!mkdir ./data\n",
    "!unzip ml-latest-small.zip -d ./data\n",
    "!rm  ml-latest-small.zip"
   ]
  },
  {
   "cell_type": "code",
   "execution_count": 1,
   "id": "41fe0185",
   "metadata": {},
   "outputs": [
    {
     "data": {
      "text/html": [
       "<div>\n",
       "<style scoped>\n",
       "    .dataframe tbody tr th:only-of-type {\n",
       "        vertical-align: middle;\n",
       "    }\n",
       "\n",
       "    .dataframe tbody tr th {\n",
       "        vertical-align: top;\n",
       "    }\n",
       "\n",
       "    .dataframe thead th {\n",
       "        text-align: right;\n",
       "    }\n",
       "</style>\n",
       "<table border=\"1\" class=\"dataframe\">\n",
       "  <thead>\n",
       "    <tr style=\"text-align: right;\">\n",
       "      <th></th>\n",
       "      <th>movieId</th>\n",
       "      <th>title</th>\n",
       "      <th>genres</th>\n",
       "    </tr>\n",
       "  </thead>\n",
       "  <tbody>\n",
       "    <tr>\n",
       "      <th>0</th>\n",
       "      <td>1</td>\n",
       "      <td>Toy Story (1995)</td>\n",
       "      <td>Adventure|Animation|Children|Comedy|Fantasy</td>\n",
       "    </tr>\n",
       "    <tr>\n",
       "      <th>1</th>\n",
       "      <td>2</td>\n",
       "      <td>Jumanji (1995)</td>\n",
       "      <td>Adventure|Children|Fantasy</td>\n",
       "    </tr>\n",
       "    <tr>\n",
       "      <th>2</th>\n",
       "      <td>3</td>\n",
       "      <td>Grumpier Old Men (1995)</td>\n",
       "      <td>Comedy|Romance</td>\n",
       "    </tr>\n",
       "  </tbody>\n",
       "</table>\n",
       "</div>"
      ],
      "text/plain": [
       "   movieId                    title  \\\n",
       "0        1         Toy Story (1995)   \n",
       "1        2           Jumanji (1995)   \n",
       "2        3  Grumpier Old Men (1995)   \n",
       "\n",
       "                                        genres  \n",
       "0  Adventure|Animation|Children|Comedy|Fantasy  \n",
       "1                   Adventure|Children|Fantasy  \n",
       "2                               Comedy|Romance  "
      ]
     },
     "execution_count": 1,
     "metadata": {},
     "output_type": "execute_result"
    }
   ],
   "source": [
    "import pandas as pd\n",
    "\n",
    "df_movies_raw = pd.read_csv(\"./data/ml-latest-small/movies.csv\")\n",
    "df_movies_raw.head(3)"
   ]
  },
  {
   "cell_type": "code",
   "execution_count": 2,
   "id": "664fedc4",
   "metadata": {},
   "outputs": [
    {
     "data": {
      "text/html": [
       "<div>\n",
       "<style scoped>\n",
       "    .dataframe tbody tr th:only-of-type {\n",
       "        vertical-align: middle;\n",
       "    }\n",
       "\n",
       "    .dataframe tbody tr th {\n",
       "        vertical-align: top;\n",
       "    }\n",
       "\n",
       "    .dataframe thead th {\n",
       "        text-align: right;\n",
       "    }\n",
       "</style>\n",
       "<table border=\"1\" class=\"dataframe\">\n",
       "  <thead>\n",
       "    <tr style=\"text-align: right;\">\n",
       "      <th></th>\n",
       "      <th>userId</th>\n",
       "      <th>movieId</th>\n",
       "      <th>rating</th>\n",
       "      <th>timestamp</th>\n",
       "    </tr>\n",
       "  </thead>\n",
       "  <tbody>\n",
       "    <tr>\n",
       "      <th>0</th>\n",
       "      <td>1</td>\n",
       "      <td>1</td>\n",
       "      <td>4.0</td>\n",
       "      <td>964982703</td>\n",
       "    </tr>\n",
       "    <tr>\n",
       "      <th>1</th>\n",
       "      <td>1</td>\n",
       "      <td>3</td>\n",
       "      <td>4.0</td>\n",
       "      <td>964981247</td>\n",
       "    </tr>\n",
       "    <tr>\n",
       "      <th>2</th>\n",
       "      <td>1</td>\n",
       "      <td>6</td>\n",
       "      <td>4.0</td>\n",
       "      <td>964982224</td>\n",
       "    </tr>\n",
       "  </tbody>\n",
       "</table>\n",
       "</div>"
      ],
      "text/plain": [
       "   userId  movieId  rating  timestamp\n",
       "0       1        1     4.0  964982703\n",
       "1       1        3     4.0  964981247\n",
       "2       1        6     4.0  964982224"
      ]
     },
     "execution_count": 2,
     "metadata": {},
     "output_type": "execute_result"
    }
   ],
   "source": [
    "df_ratings_raw = pd.read_csv(\"./data/ml-latest-small/ratings.csv\")\n",
    "df_ratings_raw.head(3)"
   ]
  },
  {
   "cell_type": "code",
   "execution_count": 3,
   "id": "03bc50b5",
   "metadata": {},
   "outputs": [
    {
     "data": {
      "text/html": [
       "<div>\n",
       "<style scoped>\n",
       "    .dataframe tbody tr th:only-of-type {\n",
       "        vertical-align: middle;\n",
       "    }\n",
       "\n",
       "    .dataframe tbody tr th {\n",
       "        vertical-align: top;\n",
       "    }\n",
       "\n",
       "    .dataframe thead th {\n",
       "        text-align: right;\n",
       "    }\n",
       "</style>\n",
       "<table border=\"1\" class=\"dataframe\">\n",
       "  <thead>\n",
       "    <tr style=\"text-align: right;\">\n",
       "      <th></th>\n",
       "      <th>userId</th>\n",
       "      <th>movieId</th>\n",
       "      <th>tag</th>\n",
       "      <th>timestamp</th>\n",
       "    </tr>\n",
       "  </thead>\n",
       "  <tbody>\n",
       "    <tr>\n",
       "      <th>0</th>\n",
       "      <td>2</td>\n",
       "      <td>60756</td>\n",
       "      <td>funny</td>\n",
       "      <td>1445714994</td>\n",
       "    </tr>\n",
       "    <tr>\n",
       "      <th>1</th>\n",
       "      <td>2</td>\n",
       "      <td>60756</td>\n",
       "      <td>Highly quotable</td>\n",
       "      <td>1445714996</td>\n",
       "    </tr>\n",
       "    <tr>\n",
       "      <th>2</th>\n",
       "      <td>2</td>\n",
       "      <td>60756</td>\n",
       "      <td>will ferrell</td>\n",
       "      <td>1445714992</td>\n",
       "    </tr>\n",
       "  </tbody>\n",
       "</table>\n",
       "</div>"
      ],
      "text/plain": [
       "   userId  movieId              tag   timestamp\n",
       "0       2    60756            funny  1445714994\n",
       "1       2    60756  Highly quotable  1445714996\n",
       "2       2    60756     will ferrell  1445714992"
      ]
     },
     "execution_count": 3,
     "metadata": {},
     "output_type": "execute_result"
    }
   ],
   "source": [
    "df_tags_raw = pd.read_csv(\"./data/ml-latest-small/tags.csv\")\n",
    "df_tags_raw.head(3)"
   ]
  },
  {
   "cell_type": "code",
   "execution_count": 4,
   "id": "c87e142b",
   "metadata": {},
   "outputs": [
    {
     "data": {
      "text/html": [
       "<div>\n",
       "<style scoped>\n",
       "    .dataframe tbody tr th:only-of-type {\n",
       "        vertical-align: middle;\n",
       "    }\n",
       "\n",
       "    .dataframe tbody tr th {\n",
       "        vertical-align: top;\n",
       "    }\n",
       "\n",
       "    .dataframe thead th {\n",
       "        text-align: right;\n",
       "    }\n",
       "</style>\n",
       "<table border=\"1\" class=\"dataframe\">\n",
       "  <thead>\n",
       "    <tr style=\"text-align: right;\">\n",
       "      <th></th>\n",
       "      <th>movieId</th>\n",
       "      <th>imdbId</th>\n",
       "      <th>tmdbId</th>\n",
       "    </tr>\n",
       "  </thead>\n",
       "  <tbody>\n",
       "    <tr>\n",
       "      <th>0</th>\n",
       "      <td>1</td>\n",
       "      <td>114709</td>\n",
       "      <td>862.0</td>\n",
       "    </tr>\n",
       "    <tr>\n",
       "      <th>1</th>\n",
       "      <td>2</td>\n",
       "      <td>113497</td>\n",
       "      <td>8844.0</td>\n",
       "    </tr>\n",
       "    <tr>\n",
       "      <th>2</th>\n",
       "      <td>3</td>\n",
       "      <td>113228</td>\n",
       "      <td>15602.0</td>\n",
       "    </tr>\n",
       "  </tbody>\n",
       "</table>\n",
       "</div>"
      ],
      "text/plain": [
       "   movieId  imdbId   tmdbId\n",
       "0        1  114709    862.0\n",
       "1        2  113497   8844.0\n",
       "2        3  113228  15602.0"
      ]
     },
     "execution_count": 4,
     "metadata": {},
     "output_type": "execute_result"
    }
   ],
   "source": [
    "df_links_raw = pd.read_csv(\"./data/ml-latest-small/links.csv\")\n",
    "df_links_raw.head(3)"
   ]
  },
  {
   "cell_type": "markdown",
   "id": "68c7ac25",
   "metadata": {},
   "source": [
    "## Data Understanding\n",
    "Dataset yang digunakan adalah MovieLens ml-latest-small, yang berisi 100.836 rating dan 3.683 aplikasi tag dari 610 pengguna untuk 9.742 film. Data ini dikumpulkan antara 29 Maret 1996 dan 24 September 2018. Dataset ini terdiri dari empat file CSV:\n",
    "\n",
    "- `movies.csv`: Berisi `movieId`, `title`, dan `genres` film.\n",
    "- `ratings.csv`: Berisi `userId`, `movieId`, `rating`, dan `timestamp` dari setiap rating yang diberikan pengguna.\n",
    "- `tags.csv`: Berisi `userId`, `movieId`, `tag`, dan `timestamp` dari setiap tag yang diterapkan pengguna.\n",
    "- `links.csv`: Berisi `movieId`, `imdbId`, dan `tmdbId` untuk menghubungkan film dengan database eksternal.\n",
    "\n",
    "**Tautan Sumber Data:** <br>\n",
    "[https://grouplens.org/datasets/movielens/latest/](https://grouplens.org/datasets/movielens/latest/)"
   ]
  },
  {
   "cell_type": "code",
   "execution_count": 5,
   "id": "ddb70aa0",
   "metadata": {},
   "outputs": [],
   "source": [
    "import matplotlib.pyplot as plt\n",
    "import seaborn as sns"
   ]
  },
  {
   "cell_type": "code",
   "execution_count": 6,
   "id": "0cd6203d",
   "metadata": {},
   "outputs": [
    {
     "name": "stdout",
     "output_type": "stream",
     "text": [
      "Movies DataFrame Info:\n",
      "<class 'pandas.core.frame.DataFrame'>\n",
      "RangeIndex: 9742 entries, 0 to 9741\n",
      "Data columns (total 3 columns):\n",
      " #   Column   Non-Null Count  Dtype \n",
      "---  ------   --------------  ----- \n",
      " 0   movieId  9742 non-null   int64 \n",
      " 1   title    9742 non-null   object\n",
      " 2   genres   9742 non-null   object\n",
      "dtypes: int64(1), object(2)\n",
      "memory usage: 228.5+ KB\n",
      "\n",
      "Ratings DataFrame Info:\n",
      "<class 'pandas.core.frame.DataFrame'>\n",
      "RangeIndex: 100836 entries, 0 to 100835\n",
      "Data columns (total 4 columns):\n",
      " #   Column     Non-Null Count   Dtype  \n",
      "---  ------     --------------   -----  \n",
      " 0   userId     100836 non-null  int64  \n",
      " 1   movieId    100836 non-null  int64  \n",
      " 2   rating     100836 non-null  float64\n",
      " 3   timestamp  100836 non-null  int64  \n",
      "dtypes: float64(1), int64(3)\n",
      "memory usage: 3.1 MB\n"
     ]
    }
   ],
   "source": [
    "print('Movies DataFrame Info:')\n",
    "df_movies_raw.info()\n",
    "\n",
    "print('\\nRatings DataFrame Info:')\n",
    "df_ratings_raw.info()"
   ]
  },
  {
   "cell_type": "code",
   "execution_count": 7,
   "id": "3e06dda6",
   "metadata": {},
   "outputs": [
    {
     "name": "stdout",
     "output_type": "stream",
     "text": [
      "Missing values in Movies DataFrame:\n",
      "movieId    0\n",
      "title      0\n",
      "genres     0\n",
      "dtype: int64\n",
      "\n",
      "Missing values in Ratings DataFrame:\n",
      "userId       0\n",
      "movieId      0\n",
      "rating       0\n",
      "timestamp    0\n",
      "dtype: int64\n"
     ]
    }
   ],
   "source": [
    "# Check for missing values\n",
    "print('Missing values in Movies DataFrame:')\n",
    "print(df_movies_raw.isnull().sum())\n",
    "\n",
    "print('\\nMissing values in Ratings DataFrame:')\n",
    "print(df_ratings_raw.isnull().sum())"
   ]
  },
  {
   "cell_type": "markdown",
   "id": "e97cc8ed",
   "metadata": {},
   "source": [
    "**Informasi Data:**\n",
    "- `movies.csv`: Tidak ada nilai yang hilang. Berisi 9742 entri film.\n",
    "- `ratings.csv`: Tidak ada nilai yang hilang. Berisi 100836 entri rating."
   ]
  },
  {
   "cell_type": "code",
   "execution_count": 8,
   "id": "69a850c8",
   "metadata": {},
   "outputs": [
    {
     "name": "stdout",
     "output_type": "stream",
     "text": [
      "Ratings Distribution:\n",
      "count    100836.000000\n",
      "mean          3.501557\n",
      "std           1.042529\n",
      "min           0.500000\n",
      "25%           3.000000\n",
      "50%           3.500000\n",
      "75%           4.000000\n",
      "max           5.000000\n",
      "Name: rating, dtype: float64\n"
     ]
    }
   ],
   "source": [
    "print('Ratings Distribution:')\n",
    "print(df_ratings_raw['rating'].describe())"
   ]
  },
  {
   "cell_type": "code",
   "execution_count": 9,
   "id": "d5d87ead",
   "metadata": {},
   "outputs": [
    {
     "data": {
      "image/png": "[encoded data removed]",
      "text/plain": [
       "<Figure size 800x600 with 1 Axes>"
      ]
     },
     "metadata": {},
     "output_type": "display_data"
    }
   ],
   "source": [
    "plt.figure(figsize=(8, 6))\n",
    "sns.countplot(x='rating', data=df_ratings_raw, hue='rating', palette='viridis')\n",
    "plt.title('Distribution of Ratings')\n",
    "plt.xlabel('Rating')\n",
    "plt.ylabel('Count')\n",
    "plt.savefig('assets/rating_distribution.png')\n",
    "plt.show()"
   ]
  },
  {
   "cell_type": "markdown",
   "id": "08e029dc",
   "metadata": {},
   "source": [
    "**Distribusi Rating:**<br>\n",
    "Rating diberikan pada skala 0.5 hingga 5.0. Distribusi rating menunjukkan bahwa sebagian besar rating berada di angka 3.0, 3.5, 4.0, dan 5.0, menunjukkan kecenderungan pengguna untuk memberikan rating yang cukup tinggi."
   ]
  },
  {
   "cell_type": "code",
   "execution_count": 10,
   "id": "9cb5d9e0",
   "metadata": {},
   "outputs": [
    {
     "name": "stdout",
     "output_type": "stream",
     "text": [
      "Number of unique movies: 9742\n",
      "Number of unique users: 610\n"
     ]
    }
   ],
   "source": [
    "# Number of unique movies and users\n",
    "print(f'Number of unique movies: {df_movies_raw[\"movieId\"].nunique()}')\n",
    "print(f'Number of unique users: {df_ratings_raw[\"userId\"].nunique()}')"
   ]
  },
  {
   "cell_type": "code",
   "execution_count": 11,
   "id": "06167cd1",
   "metadata": {},
   "outputs": [
    {
     "name": "stdout",
     "output_type": "stream",
     "text": [
      "Top 10 movies with most ratings:\n"
     ]
    },
    {
     "data": {
      "text/html": [
       "<div>\n",
       "<style scoped>\n",
       "    .dataframe tbody tr th:only-of-type {\n",
       "        vertical-align: middle;\n",
       "    }\n",
       "\n",
       "    .dataframe tbody tr th {\n",
       "        vertical-align: top;\n",
       "    }\n",
       "\n",
       "    .dataframe thead th {\n",
       "        text-align: right;\n",
       "    }\n",
       "</style>\n",
       "<table border=\"1\" class=\"dataframe\">\n",
       "  <thead>\n",
       "    <tr style=\"text-align: right;\">\n",
       "      <th></th>\n",
       "      <th>movieId</th>\n",
       "      <th>title</th>\n",
       "      <th>genres</th>\n",
       "    </tr>\n",
       "  </thead>\n",
       "  <tbody>\n",
       "    <tr>\n",
       "      <th>97</th>\n",
       "      <td>110</td>\n",
       "      <td>Braveheart (1995)</td>\n",
       "      <td>Action|Drama|War</td>\n",
       "    </tr>\n",
       "    <tr>\n",
       "      <th>224</th>\n",
       "      <td>260</td>\n",
       "      <td>Star Wars: Episode IV - A New Hope (1977)</td>\n",
       "      <td>Action|Adventure|Sci-Fi</td>\n",
       "    </tr>\n",
       "    <tr>\n",
       "      <th>257</th>\n",
       "      <td>296</td>\n",
       "      <td>Pulp Fiction (1994)</td>\n",
       "      <td>Comedy|Crime|Drama|Thriller</td>\n",
       "    </tr>\n",
       "    <tr>\n",
       "      <th>277</th>\n",
       "      <td>318</td>\n",
       "      <td>Shawshank Redemption, The (1994)</td>\n",
       "      <td>Crime|Drama</td>\n",
       "    </tr>\n",
       "    <tr>\n",
       "      <th>314</th>\n",
       "      <td>356</td>\n",
       "      <td>Forrest Gump (1994)</td>\n",
       "      <td>Comedy|Drama|Romance|War</td>\n",
       "    </tr>\n",
       "    <tr>\n",
       "      <th>418</th>\n",
       "      <td>480</td>\n",
       "      <td>Jurassic Park (1993)</td>\n",
       "      <td>Action|Adventure|Sci-Fi|Thriller</td>\n",
       "    </tr>\n",
       "    <tr>\n",
       "      <th>461</th>\n",
       "      <td>527</td>\n",
       "      <td>Schindler's List (1993)</td>\n",
       "      <td>Drama|War</td>\n",
       "    </tr>\n",
       "    <tr>\n",
       "      <th>507</th>\n",
       "      <td>589</td>\n",
       "      <td>Terminator 2: Judgment Day (1991)</td>\n",
       "      <td>Action|Sci-Fi</td>\n",
       "    </tr>\n",
       "    <tr>\n",
       "      <th>510</th>\n",
       "      <td>593</td>\n",
       "      <td>Silence of the Lambs, The (1991)</td>\n",
       "      <td>Crime|Horror|Thriller</td>\n",
       "    </tr>\n",
       "    <tr>\n",
       "      <th>1939</th>\n",
       "      <td>2571</td>\n",
       "      <td>Matrix, The (1999)</td>\n",
       "      <td>Action|Sci-Fi|Thriller</td>\n",
       "    </tr>\n",
       "  </tbody>\n",
       "</table>\n",
       "</div>"
      ],
      "text/plain": [
       "      movieId                                      title  \\\n",
       "97        110                          Braveheart (1995)   \n",
       "224       260  Star Wars: Episode IV - A New Hope (1977)   \n",
       "257       296                        Pulp Fiction (1994)   \n",
       "277       318           Shawshank Redemption, The (1994)   \n",
       "314       356                        Forrest Gump (1994)   \n",
       "418       480                       Jurassic Park (1993)   \n",
       "461       527                    Schindler's List (1993)   \n",
       "507       589          Terminator 2: Judgment Day (1991)   \n",
       "510       593           Silence of the Lambs, The (1991)   \n",
       "1939     2571                         Matrix, The (1999)   \n",
       "\n",
       "                                genres  \n",
       "97                    Action|Drama|War  \n",
       "224            Action|Adventure|Sci-Fi  \n",
       "257        Comedy|Crime|Drama|Thriller  \n",
       "277                        Crime|Drama  \n",
       "314           Comedy|Drama|Romance|War  \n",
       "418   Action|Adventure|Sci-Fi|Thriller  \n",
       "461                          Drama|War  \n",
       "507                      Action|Sci-Fi  \n",
       "510              Crime|Horror|Thriller  \n",
       "1939            Action|Sci-Fi|Thriller  "
      ]
     },
     "execution_count": 11,
     "metadata": {},
     "output_type": "execute_result"
    }
   ],
   "source": [
    "# Top 10 movies with most ratings\n",
    "most_rated_movies = df_ratings_raw['movieId'].value_counts().head(10).index\n",
    "\n",
    "print('Top 10 movies with most ratings:')\n",
    "df_movies_raw[df_movies_raw['movieId'].isin(most_rated_movies)]"
   ]
  },
  {
   "cell_type": "code",
   "execution_count": 12,
   "id": "0a493444",
   "metadata": {},
   "outputs": [
    {
     "name": "stdout",
     "output_type": "stream",
     "text": [
      "Top 10 movies by average rating:\n",
      "title\n",
      "Gena the Crocodile (1969)                    5.0\n",
      "True Stories (1986)                          5.0\n",
      "Cosmic Scrat-tastrophe (2015)                5.0\n",
      "Love and Pigeons (1985)                      5.0\n",
      "Red Sorghum (Hong gao liang) (1987)          5.0\n",
      "Thin Line Between Love and Hate, A (1996)    5.0\n",
      "Lesson Faust (1994)                          5.0\n",
      "Eva (2011)                                   5.0\n",
      "Who Killed Chea Vichea? (2010)               5.0\n",
      "Siam Sunset (1999)                           5.0\n",
      "Name: rating, dtype: float64\n"
     ]
    }
   ],
   "source": [
    "df_merged_raw = pd.merge(df_ratings_raw, df_movies_raw, on='movieId')\n",
    "\n",
    "average_ratings = df_merged_raw.groupby('title')['rating'].mean().sort_values(ascending=False)\n",
    "print('Top 10 movies by average rating:')\n",
    "print(average_ratings.head(10))"
   ]
  },
  {
   "cell_type": "code",
   "execution_count": 13,
   "id": "ae22b83f",
   "metadata": {},
   "outputs": [
    {
     "name": "stdout",
     "output_type": "stream",
     "text": [
      "Top 10 movies by number of ratings:\n",
      "title\n",
      "Forrest Gump (1994)                          329\n",
      "Shawshank Redemption, The (1994)             317\n",
      "Pulp Fiction (1994)                          307\n",
      "Silence of the Lambs, The (1991)             279\n",
      "Matrix, The (1999)                           278\n",
      "Star Wars: Episode IV - A New Hope (1977)    251\n",
      "Jurassic Park (1993)                         238\n",
      "Braveheart (1995)                            237\n",
      "Terminator 2: Judgment Day (1991)            224\n",
      "Schindler's List (1993)                      220\n",
      "Name: rating, dtype: int64\n"
     ]
    }
   ],
   "source": [
    "ratings_count = df_merged_raw.groupby('title')['rating'].count().sort_values(ascending=False)\n",
    "print('Top 10 movies by number of ratings:')\n",
    "print(ratings_count.head(10))"
   ]
  },
  {
   "cell_type": "code",
   "execution_count": 14,
   "id": "913f104a",
   "metadata": {},
   "outputs": [
    {
     "data": {
      "image/png": "[encoded data removed]",
      "text/plain": [
       "<Figure size 1200x800 with 1 Axes>"
      ]
     },
     "metadata": {},
     "output_type": "display_data"
    }
   ],
   "source": [
    "df_movies_raw['genres'] = df_movies_raw['genres'].apply(lambda x: x.split('|'))\n",
    "df_genres_raw = df_movies_raw.explode('genres')\n",
    "\n",
    "plt.figure(figsize=(12, 8))\n",
    "sns.countplot(y='genres', data=df_genres_raw, order=df_genres_raw['genres'].value_counts().index, palette='magma', hue='genres')\n",
    "plt.title('Distribution of Genres')\n",
    "plt.xlabel('Count')\n",
    "plt.ylabel('Genre')\n",
    "plt.savefig('assets/genre_distribution.png')\n",
    "plt.show()"
   ]
  },
  {
   "cell_type": "markdown",
   "id": "01520eda",
   "metadata": {},
   "source": [
    "**Distribusi Genre:**<br>\n",
    "Genre film paling populer dalam dataset adalah Drama, Comedy, dan Thriller."
   ]
  },
  {
   "cell_type": "markdown",
   "id": "8d00d47f",
   "metadata": {},
   "source": [
    "## Data Preparation\n",
    "Tahapan persiapan data meliputi:"
   ]
  },
  {
   "cell_type": "code",
   "execution_count": 16,
   "id": "e33ba2b6",
   "metadata": {},
   "outputs": [],
   "source": [
    "df_movies_prep = df_movies_raw.copy()\n",
    "df_ratings_prep = df_ratings_raw.copy()"
   ]
  },
  {
   "cell_type": "markdown",
   "id": "2451819a",
   "metadata": {},
   "source": [
    "### Pemetaan ID\n",
    "Untuk Collaborative Filtering, `userId` dan `movieId` dipetakan ke ID internal yang berurutan mulai dari 0 untuk digunakan oleh LightFM."
   ]
  },
  {
   "cell_type": "code",
   "execution_count": 17,
   "id": "5c709ed4",
   "metadata": {},
   "outputs": [],
   "source": [
    "user_to_id = {user: i for i, user in enumerate(df_ratings_prep[\"userId\"].unique())}\n",
    "movie_to_id = {movie: i for i, movie in enumerate(df_ratings_prep[\"movieId\"].unique())}\n",
    "\n",
    "df_ratings_prep[\"user_id_mapped\"] = df_ratings_prep[\"userId\"].map(user_to_id)\n",
    "df_ratings_prep[\"movie_id_mapped\"] = df_ratings_prep[\"movieId\"].map(movie_to_id)\n",
    "\n",
    "num_users = len(user_to_id)\n",
    "num_movies = len(movie_to_id)"
   ]
  },
  {
   "cell_type": "code",
   "execution_count": 18,
   "id": "fc700ace",
   "metadata": {},
   "outputs": [
    {
     "data": {
      "text/html": [
       "<div>\n",
       "<style scoped>\n",
       "    .dataframe tbody tr th:only-of-type {\n",
       "        vertical-align: middle;\n",
       "    }\n",
       "\n",
       "    .dataframe tbody tr th {\n",
       "        vertical-align: top;\n",
       "    }\n",
       "\n",
       "    .dataframe thead th {\n",
       "        text-align: right;\n",
       "    }\n",
       "</style>\n",
       "<table border=\"1\" class=\"dataframe\">\n",
       "  <thead>\n",
       "    <tr style=\"text-align: right;\">\n",
       "      <th></th>\n",
       "      <th>userId</th>\n",
       "      <th>movieId</th>\n",
       "      <th>rating</th>\n",
       "      <th>timestamp</th>\n",
       "      <th>user_id_mapped</th>\n",
       "      <th>movie_id_mapped</th>\n",
       "    </tr>\n",
       "  </thead>\n",
       "  <tbody>\n",
       "    <tr>\n",
       "      <th>0</th>\n",
       "      <td>1</td>\n",
       "      <td>1</td>\n",
       "      <td>4.0</td>\n",
       "      <td>964982703</td>\n",
       "      <td>0</td>\n",
       "      <td>0</td>\n",
       "    </tr>\n",
       "    <tr>\n",
       "      <th>1</th>\n",
       "      <td>1</td>\n",
       "      <td>3</td>\n",
       "      <td>4.0</td>\n",
       "      <td>964981247</td>\n",
       "      <td>0</td>\n",
       "      <td>1</td>\n",
       "    </tr>\n",
       "    <tr>\n",
       "      <th>2</th>\n",
       "      <td>1</td>\n",
       "      <td>6</td>\n",
       "      <td>4.0</td>\n",
       "      <td>964982224</td>\n",
       "      <td>0</td>\n",
       "      <td>2</td>\n",
       "    </tr>\n",
       "  </tbody>\n",
       "</table>\n",
       "</div>"
      ],
      "text/plain": [
       "   userId  movieId  rating  timestamp  user_id_mapped  movie_id_mapped\n",
       "0       1        1     4.0  964982703               0                0\n",
       "1       1        3     4.0  964981247               0                1\n",
       "2       1        6     4.0  964982224               0                2"
      ]
     },
     "execution_count": 18,
     "metadata": {},
     "output_type": "execute_result"
    }
   ],
   "source": [
    "df_ratings_prep.head(3)"
   ]
  },
  {
   "cell_type": "markdown",
   "id": "e5d6df53",
   "metadata": {},
   "source": [
    "### Pembuatan Matriks Interaksi\n",
    "Matriks interaksi `user-item` dibuat menggunakan `csr_matrix` dari `scipy.sparse`. Matriks ini merepresentasikan apakah seorang pengguna telah berinteraksi (memberi rating) pada suatu film. Meskipun rating eksplisit tersedia, kami menggunakan pendekatan implisit (interaksi biner) untuk model LightFM dengan `loss=\\'warp\\'`."
   ]
  },
  {
   "cell_type": "code",
   "execution_count": 19,
   "id": "dbd65176",
   "metadata": {},
   "outputs": [],
   "source": [
    "from scipy.sparse import csr_matrix"
   ]
  },
  {
   "cell_type": "code",
   "execution_count": 20,
   "id": "b02afeed",
   "metadata": {},
   "outputs": [],
   "source": [
    "interactions = csr_matrix((\n",
    "    df_ratings_prep[\"rating\"].values,\n",
    "    (df_ratings_prep[\"user_id_mapped\"].values, df_ratings_prep[\"movie_id_mapped\"].values)\n",
    "), shape=(num_users, num_movies))"
   ]
  },
  {
   "cell_type": "markdown",
   "id": "3b60eb1d",
   "metadata": {},
   "source": [
    "### Pembagian Data\n",
    "Data rating dibagi menjadi set pelatihan (80%) dan set pengujian (20%) untuk evaluasi model yang tepat."
   ]
  },
  {
   "cell_type": "code",
   "execution_count": 26,
   "id": "1927bd7b",
   "metadata": {},
   "outputs": [],
   "source": [
    "from sklearn.model_selection import train_test_split"
   ]
  },
  {
   "cell_type": "code",
   "execution_count": 27,
   "id": "0a3ccb94",
   "metadata": {},
   "outputs": [],
   "source": [
    "train_ratings_cf, test_ratings_cf = train_test_split(df_ratings_prep, test_size=0.2, random_state=42)\n",
    "\n",
    "train_interactions_cf = csr_matrix((\n",
    "    train_ratings_cf[\"rating\"].values,\n",
    "    (train_ratings_cf[\"user_id_mapped\"].values, train_ratings_cf[\"movie_id_mapped\"].values)\n",
    "), shape=(num_users, num_movies))\n",
    "\n",
    "test_interactions_cf = csr_matrix((\n",
    "    test_ratings_cf[\"rating\"].values,\n",
    "    (test_ratings_cf[\"user_id_mapped\"].values, test_ratings_cf[\"movie_id_mapped\"].values)\n",
    "), shape=(num_users, num_movies))"
   ]
  },
  {
   "cell_type": "code",
   "execution_count": 33,
   "id": "65284899",
   "metadata": {},
   "outputs": [
    {
     "name": "stdout",
     "output_type": "stream",
     "text": [
      "Train size: (610, 9724)\n",
      "Test size: (610, 9724)\n"
     ]
    }
   ],
   "source": [
    "print(f\"Train size: {train_interactions_cf.shape}\")\n",
    "print(f\"Test size: {test_interactions_cf.shape}\")"
   ]
  },
  {
   "cell_type": "markdown",
   "id": "e03697d7",
   "metadata": {},
   "source": [
    "### Ekstraksi Fitur Konten\n",
    "Untuk Content-Based Filtering, genre film diubah menjadi representasi numerik menggunakan TF-IDF Vectorizer. Kemudian, kesamaan kosinus dihitung antar film berdasarkan vektor genre mereka."
   ]
  },
  {
   "cell_type": "code",
   "execution_count": 34,
   "id": "9deba118",
   "metadata": {},
   "outputs": [],
   "source": [
    "from sklearn.feature_extraction.text import TfidfVectorizer"
   ]
  },
  {
   "cell_type": "code",
   "execution_count": 45,
   "id": "226c2474",
   "metadata": {},
   "outputs": [],
   "source": [
    "df_movies_prep[\"genres\"] = df_movies_prep[\"genres\"].fillna(\"\")\n",
    "df_movies_prep[\"genres\"] = df_movies_prep[\"genres\"].apply(lambda lst: \"|\".join(lst))\n",
    "\n",
    "tfidf_vectorizer = TfidfVectorizer()\n",
    "tfidf_matrix = tfidf_vectorizer.fit_transform(df_movies_prep[\"genres\"])"
   ]
  },
  {
   "cell_type": "code",
   "execution_count": 49,
   "id": "6a98cfda",
   "metadata": {},
   "outputs": [
    {
     "name": "stdout",
     "output_type": "stream",
     "text": [
      "TF-IDF size: (9742, 24)\n"
     ]
    }
   ],
   "source": [
    "print(f\"TF-IDF size: {tfidf_matrix.shape}\")"
   ]
  },
  {
   "cell_type": "markdown",
   "id": "e96c4fe9",
   "metadata": {},
   "source": [
    "## Modeling and Result"
   ]
  },
  {
   "cell_type": "markdown",
   "id": "3f5c3619",
   "metadata": {},
   "source": [
    "### Collaborative Filtering (LightFM)\n",
    "Menggunakan model LightFM dengan fungsi kerugian `WARP` (Weighted Approximate-Rank Pairwise). Model ini dilatih pada matriks interaksi pelatihan selama 30 epoch."
   ]
  },
  {
   "cell_type": "code",
   "execution_count": 50,
   "id": "3f6f8631",
   "metadata": {},
   "outputs": [],
   "source": [
    "from lightfm import LightFM\n",
    "from lightfm.evaluation import precision_at_k, recall_at_k"
   ]
  },
  {
   "cell_type": "code",
   "execution_count": 51,
   "id": "69855cbc",
   "metadata": {},
   "outputs": [
    {
     "data": {
      "text/plain": [
       "<lightfm.lightfm.LightFM at 0x7ffe7cdf8160>"
      ]
     },
     "execution_count": 51,
     "metadata": {},
     "output_type": "execute_result"
    }
   ],
   "source": [
    "model_cf = LightFM(loss=\"warp\")\n",
    "model_cf.fit(train_interactions_cf, epochs=30, num_threads=2)"
   ]
  },
  {
   "cell_type": "code",
   "execution_count": 52,
   "id": "7e68dd1e",
   "metadata": {},
   "outputs": [],
   "source": [
    "train_precision_cf = precision_at_k(model_cf, train_interactions_cf, k=10).mean()\n",
    "test_precision_cf = precision_at_k(model_cf, test_interactions_cf, k=10).mean()\n",
    "train_recall_cf = recall_at_k(model_cf, train_interactions_cf, k=10).mean()\n",
    "test_recall_cf = recall_at_k(model_cf, test_interactions_cf, k=10).mean()"
   ]
  },
  {
   "cell_type": "code",
   "execution_count": 59,
   "id": "58ba79a9",
   "metadata": {},
   "outputs": [
    {
     "name": "stdout",
     "output_type": "stream",
     "text": [
      "Collaborative Filtering (LightFM) Results\n",
      "=============================================\n",
      "Train Precision@k : 0.4628\n",
      "Test Precision@k  : 0.0952\n",
      "Train Recall@k    : 0.0718\n",
      "Test Recall@k     : 0.0628\n"
     ]
    }
   ],
   "source": [
    "print(\"Collaborative Filtering (LightFM) Results\")\n",
    "print(\"=\"*45)\n",
    "print(f\"Train Precision@k : {train_precision_cf:.4f}\")\n",
    "print(f\"Test Precision@k  : {test_precision_cf:.4f}\")\n",
    "print(f\"Train Recall@k    : {train_recall_cf:.4f}\")\n",
    "print(f\"Test Recall@k     : {test_recall_cf:.4f}\")"
   ]
  },
  {
   "cell_type": "markdown",
   "id": "c43fb20a",
   "metadata": {},
   "source": [
    "Hasil evaluasi menunjukkan bahwa model LightFM memiliki presisi yang lebih tinggi pada data pelatihan dibandingkan data pengujian, yang wajar. Recall pada data pengujian menunjukkan kemampuan model untuk merekomendasikan item yang relevan."
   ]
  },
  {
   "cell_type": "markdown",
   "id": "b69f630d",
   "metadata": {},
   "source": [
    "### Content-Based Filtering"
   ]
  },
  {
   "cell_type": "code",
   "execution_count": 70,
   "id": "00f00f7c",
   "metadata": {},
   "outputs": [],
   "source": [
    "from sklearn.metrics.pairwise import cosine_similarity"
   ]
  },
  {
   "cell_type": "code",
   "execution_count": 71,
   "id": "6ece24fb",
   "metadata": {},
   "outputs": [],
   "source": [
    "cosine_sim = cosine_similarity(tfidf_matrix, tfidf_matrix)"
   ]
  },
  {
   "cell_type": "markdown",
   "id": "337edbb7",
   "metadata": {},
   "source": [
    "## Inference"
   ]
  },
  {
   "cell_type": "code",
   "execution_count": 65,
   "id": "18e606cb",
   "metadata": {},
   "outputs": [],
   "source": [
    "import numpy as np"
   ]
  },
  {
   "cell_type": "markdown",
   "id": "8c3d34b4",
   "metadata": {},
   "source": [
    "### Collaborative Filtering (LightFM)"
   ]
  },
  {
   "cell_type": "code",
   "execution_count": 89,
   "id": "fc2d6038",
   "metadata": {},
   "outputs": [],
   "source": [
    "def get_recommendations_cf(model, user_id, movies_df, user_to_id, movie_to_id, num_recommendations=10):\n",
    "    user_internal_id = user_to_id.get(user_id)\n",
    "    if user_internal_id is None:\n",
    "        return [], \"User not found.\"\n",
    "\n",
    "    known_positives = df_ratings_prep[df_ratings_prep[\"userId\"] == user_id][\"movieId\"].tolist()\n",
    "    known_positive_titles = movies_df[movies_df[\"movieId\"].isin(known_positives)][\"title\"].tolist()\n",
    "\n",
    "    scores = model.predict(user_internal_id, np.arange(num_movies))\n",
    "    top_movie_ids_mapped = scores.argsort()[::-1]\n",
    "\n",
    "    id_to_movie = {v: k for k, v in movie_to_id.items()}\n",
    "    top_movie_ids = [id_to_movie[m_id_mapped] for m_id_mapped in top_movie_ids_mapped]\n",
    "\n",
    "    recommended_movie_ids = [m_id for m_id in top_movie_ids if m_id not in known_positives]\n",
    "    recommended_movies = movies_df[movies_df[\"movieId\"].isin(recommended_movie_ids)][\"title\"].head(num_recommendations).tolist()\n",
    "\n",
    "    return known_positive_titles, recommended_movies"
   ]
  },
  {
   "cell_type": "code",
   "execution_count": 90,
   "id": "dd79ee78",
   "metadata": {},
   "outputs": [
    {
     "name": "stdout",
     "output_type": "stream",
     "text": [
      "Collaborative Filtering (LightFM) Recommendations for User 1\n",
      "=================================================================\n",
      "Movies known by user 1:\n",
      "- Toy Story (1995)\n",
      "- Grumpier Old Men (1995)\n",
      "- Heat (1995)\n",
      "- Seven (a.k.a. Se7en) (1995)\n",
      "- Usual Suspects, The (1995)\n",
      "- From Dusk Till Dawn (1996)\n",
      "- Bottle Rocket (1996)\n",
      "- Braveheart (1995)\n",
      "- Rob Roy (1995)\n",
      "- Canadian Bacon (1995)\n",
      "- Desperado (1995)\n",
      "- Billy Madison (1995)\n",
      "- Clerks (1994)\n",
      "- Dumb & Dumber (Dumb and Dumber) (1994)\n",
      "- Ed Wood (1994)\n",
      "- Star Wars: Episode IV - A New Hope (1977)\n",
      "- Pulp Fiction (1994)\n",
      "- Stargate (1994)\n",
      "- Tommy Boy (1995)\n",
      "- Clear and Present Danger (1994)\n",
      "- Forrest Gump (1994)\n",
      "- Jungle Book, The (1994)\n",
      "- Mask, The (1994)\n",
      "- Blown Away (1994)\n",
      "- Dazed and Confused (1993)\n",
      "- Fugitive, The (1993)\n",
      "- Jurassic Park (1993)\n",
      "- Mrs. Doubtfire (1993)\n",
      "- Schindler's List (1993)\n",
      "- So I Married an Axe Murderer (1993)\n",
      "- Three Musketeers, The (1993)\n",
      "- Tombstone (1993)\n",
      "- Dances with Wolves (1990)\n",
      "- Batman (1989)\n",
      "- Silence of the Lambs, The (1991)\n",
      "- Pinocchio (1940)\n",
      "- Fargo (1996)\n",
      "- Mission: Impossible (1996)\n",
      "- James and the Giant Peach (1996)\n",
      "- Space Jam (1996)\n",
      "- Rock, The (1996)\n",
      "- Twister (1996)\n",
      "- Independence Day (a.k.a. ID4) (1996)\n",
      "- She's the One (1996)\n",
      "- Wizard of Oz, The (1939)\n",
      "- Citizen Kane (1941)\n",
      "- Adventures of Robin Hood, The (1938)\n",
      "- Ghost and Mrs. Muir, The (1947)\n",
      "- Mr. Smith Goes to Washington (1939)\n",
      "- Escape to Witch Mountain (1975)\n",
      "- Winnie the Pooh and the Blustery Day (1968)\n",
      "- Three Caballeros, The (1945)\n",
      "- Sword in the Stone, The (1963)\n",
      "- Dumbo (1941)\n",
      "- Pete's Dragon (1977)\n",
      "- Bedknobs and Broomsticks (1971)\n",
      "- Alice in Wonderland (1951)\n",
      "- That Thing You Do! (1996)\n",
      "- Ghost and the Darkness, The (1996)\n",
      "- Swingers (1996)\n",
      "- Willy Wonka & the Chocolate Factory (1971)\n",
      "- Monty Python's Life of Brian (1979)\n",
      "- Reservoir Dogs (1992)\n",
      "- Platoon (1986)\n",
      "- Basic Instinct (1992)\n",
      "- E.T. the Extra-Terrestrial (1982)\n",
      "- Abyss, The (1989)\n",
      "- Monty Python and the Holy Grail (1975)\n",
      "- Star Wars: Episode V - The Empire Strikes Back (1980)\n",
      "- Princess Bride, The (1987)\n",
      "- Raiders of the Lost Ark (Indiana Jones and the Raiders of the Lost Ark) (1981)\n",
      "- Clockwork Orange, A (1971)\n",
      "- Apocalypse Now (1979)\n",
      "- Star Wars: Episode VI - Return of the Jedi (1983)\n",
      "- Goodfellas (1990)\n",
      "- Alien (1979)\n",
      "- Psycho (1960)\n",
      "- Blues Brothers, The (1980)\n",
      "- Full Metal Jacket (1987)\n",
      "- Henry V (1989)\n",
      "- Quiet Man, The (1952)\n",
      "- Terminator, The (1984)\n",
      "- Duck Soup (1933)\n",
      "- Shining, The (1980)\n",
      "- Groundhog Day (1993)\n",
      "- Back to the Future (1985)\n",
      "- Highlander (1986)\n",
      "- Young Frankenstein (1974)\n",
      "- Fantasia (1940)\n",
      "- Indiana Jones and the Last Crusade (1989)\n",
      "- Pink Floyd: The Wall (1982)\n",
      "- Nosferatu (Nosferatu, eine Symphonie des Grauens) (1922)\n",
      "- Batman Returns (1992)\n",
      "- Sneakers (1992)\n",
      "- Last of the Mohicans, The (1992)\n",
      "- McHale's Navy (1997)\n",
      "- Best Men (1997)\n",
      "- Grosse Pointe Blank (1997)\n",
      "- Austin Powers: International Man of Mystery (1997)\n",
      "- Con Air (1997)\n",
      "- Face/Off (1997)\n",
      "- Men in Black (a.k.a. MIB) (1997)\n",
      "- Conan the Barbarian (1982)\n",
      "- L.A. Confidential (1997)\n",
      "- Kiss the Girls (1997)\n",
      "- Game, The (1997)\n",
      "- I Know What You Did Last Summer (1997)\n",
      "- Starship Troopers (1997)\n",
      "- Big Lebowski, The (1998)\n",
      "- Wedding Singer, The (1998)\n",
      "- Welcome to Woop-Woop (1997)\n",
      "- Newton Boys, The (1998)\n",
      "- Wild Things (1998)\n",
      "- Small Soldiers (1998)\n",
      "- All Quiet on the Western Front (1930)\n",
      "- Rocky (1976)\n",
      "- Labyrinth (1986)\n",
      "- Lethal Weapon (1987)\n",
      "- Goonies, The (1985)\n",
      "- Back to the Future Part III (1990)\n",
      "- Bambi (1942)\n",
      "- Saving Private Ryan (1998)\n",
      "- Black Cauldron, The (1985)\n",
      "- Flight of the Navigator (1986)\n",
      "- Great Mouse Detective, The (1986)\n",
      "- Honey, I Shrunk the Kids (1989)\n",
      "- Negotiator, The (1998)\n",
      "- Jungle Book, The (1967)\n",
      "- Rescuers, The (1977)\n",
      "- Return to Oz (1985)\n",
      "- Rocketeer, The (1991)\n",
      "- Sleeping Beauty (1959)\n",
      "- Song of the South (1946)\n",
      "- Tron (1982)\n",
      "- Indiana Jones and the Temple of Doom (1984)\n",
      "- Lord of the Rings, The (1978)\n",
      "- Charlotte's Web (1973)\n",
      "- Secret of NIMH, The (1982)\n",
      "- American Tail, An (1986)\n",
      "- Legend (1985)\n",
      "- NeverEnding Story, The (1984)\n",
      "- Beetlejuice (1988)\n",
      "- Willow (1988)\n",
      "- Toys (1992)\n",
      "- Few Good Men, A (1992)\n",
      "- Rush Hour (1998)\n",
      "- Edward Scissorhands (1990)\n",
      "- American History X (1998)\n",
      "- I Still Know What You Did Last Summer (1998)\n",
      "- Enemy of the State (1998)\n",
      "- King Kong (1933)\n",
      "- Very Bad Things (1998)\n",
      "- Psycho (1998)\n",
      "- Rushmore (1998)\n",
      "- Romancing the Stone (1984)\n",
      "- Young Sherlock Holmes (1985)\n",
      "- Thin Red Line, The (1998)\n",
      "- Howard the Duck (1986)\n",
      "- Texas Chainsaw Massacre, The (1974)\n",
      "- Crocodile Dundee (1986)\n",
      "- ¡Three Amigos! (1986)\n",
      "- 20 Dates (1998)\n",
      "- Office Space (1999)\n",
      "- Logan's Run (1976)\n",
      "- Planet of the Apes (1968)\n",
      "- Lock, Stock & Two Smoking Barrels (1998)\n",
      "- Matrix, The (1999)\n",
      "- Go (1999)\n",
      "- SLC Punk! (1998)\n",
      "- Dick Tracy (1990)\n",
      "- Mummy, The (1999)\n",
      "- Star Wars: Episode I - The Phantom Menace (1999)\n",
      "- Superman (1978)\n",
      "- Superman II (1980)\n",
      "- Dracula (1931)\n",
      "- Frankenstein (1931)\n",
      "- Wolf Man, The (1941)\n",
      "- Rocky Horror Picture Show, The (1975)\n",
      "- Run Lola Run (Lola rennt) (1998)\n",
      "- South Park: Bigger, Longer and Uncut (1999)\n",
      "- Ghostbusters (a.k.a. Ghost Busters) (1984)\n",
      "- Iron Giant, The (1999)\n",
      "- Big (1988)\n",
      "- 13th Warrior, The (1999)\n",
      "- American Beauty (1999)\n",
      "- Excalibur (1981)\n",
      "- Gulliver's Travels (1939)\n",
      "- Total Recall (1990)\n",
      "- Dirty Dozen, The (1967)\n",
      "- Goldfinger (1964)\n",
      "- From Russia with Love (1963)\n",
      "- Dr. No (1962)\n",
      "- Fight Club (1999)\n",
      "- RoboCop (1987)\n",
      "- Who Framed Roger Rabbit? (1988)\n",
      "- Live and Let Die (1973)\n",
      "- Thunderball (1965)\n",
      "- Being John Malkovich (1999)\n",
      "- Spaceballs (1987)\n",
      "- Robin Hood (1973)\n",
      "- Dogma (1999)\n",
      "- Messenger: The Story of Joan of Arc, The (1999)\n",
      "- Longest Day, The (1962)\n",
      "- Green Mile, The (1999)\n",
      "- Easy Rider (1969)\n",
      "- Talented Mr. Ripley, The (1999)\n",
      "- Encino Man (1992)\n",
      "- Sister Act (1992)\n",
      "- Wayne's World (1992)\n",
      "- Scream 3 (2000)\n",
      "- JFK (1991)\n",
      "- Teenage Mutant Ninja Turtles II: The Secret of the Ooze (1991)\n",
      "- Teenage Mutant Ninja Turtles III (1993)\n",
      "- Red Dawn (1984)\n",
      "- Good Morning, Vietnam (1987)\n",
      "- Grumpy Old Men (1993)\n",
      "- Ladyhawke (1985)\n",
      "- Hook (1991)\n",
      "- Predator (1987)\n",
      "- Gladiator (2000)\n",
      "- Road Trip (2000)\n",
      "- Man with the Golden Gun, The (1974)\n",
      "- Blazing Saddles (1974)\n",
      "- Mad Max (1979)\n",
      "- Road Warrior, The (Mad Max 2) (1981)\n",
      "- Shaft (1971)\n",
      "- Big Trouble in Little China (1986)\n",
      "- Shaft (2000)\n",
      "- X-Men (2000)\n",
      "- What About Bob? (1991)\n",
      "- Transformers: The Movie (1986)\n",
      "- M*A*S*H (a.k.a. MASH) (1970)\n",
      "=================================================================\n",
      "Top 10 recommendations for user 1:\n",
      "- Jumanji (1995)\n",
      "- Waiting to Exhale (1995)\n",
      "- Father of the Bride Part II (1995)\n",
      "- Sabrina (1995)\n",
      "- Tom and Huck (1995)\n",
      "- Sudden Death (1995)\n",
      "- GoldenEye (1995)\n",
      "- American President, The (1995)\n",
      "- Dracula: Dead and Loving It (1995)\n",
      "- Balto (1995)\n"
     ]
    }
   ],
   "source": [
    "user_id_to_recommend = 1\n",
    "known_movies_cf, recommendations_cf = get_recommendations_cf(model_cf, user_id_to_recommend, df_movies_prep, user_to_id, movie_to_id)\n",
    "\n",
    "print(f\"Collaborative Filtering (LightFM) Recommendations for User {user_id_to_recommend}\")\n",
    "print(\"=\"*65)\n",
    "print(f\"Movies known by user {user_id_to_recommend}:\")\n",
    "for movie in known_movies_cf:\n",
    "    print(f\"- {movie}\")\n",
    "print(\"=\"*65)\n",
    "print(f\"Top 10 recommendations for user {user_id_to_recommend}:\")\n",
    "for movie in recommendations_cf:\n",
    "    print(f\"- {movie}\")"
   ]
  },
  {
   "cell_type": "markdown",
   "id": "fa0b2870",
   "metadata": {},
   "source": [
    "### Content-Based Filtering\n",
    "\n",
    "Untuk Content-Based Filtering, menggunakan kesamaan kosinus berdasarkan fitur genre film. Model ini merekomendasikan film yang memiliki genre serupa dengan film yang disukai pengguna."
   ]
  },
  {
   "cell_type": "code",
   "execution_count": 91,
   "id": "ae255dca",
   "metadata": {},
   "outputs": [],
   "source": [
    "def get_recommendations_cb(movie_title, movies_df, cosine_sim, num_recommendations=10):\n",
    "    idx = movies_df[movies_df[\"title\"] == movie_title].index[0]\n",
    "    sim_scores = list(enumerate(cosine_sim[idx]))\n",
    "    sim_scores = sorted(sim_scores, key=lambda x: x[1], reverse=True)\n",
    "    sim_scores = sim_scores[1:num_recommendations+1]\n",
    "    movie_indices = [i[0] for i in sim_scores]\n",
    "\n",
    "    return movies_df[\"title\"].iloc[movie_indices].tolist()"
   ]
  },
  {
   "cell_type": "code",
   "execution_count": 92,
   "id": "c25009a1",
   "metadata": {},
   "outputs": [
    {
     "name": "stdout",
     "output_type": "stream",
     "text": [
      "Content-Based Filtering Recommendations for Movie: Toy Story (1995)\n",
      "======================================================================\n",
      "Top 10 similar movies to 'Toy Story (1995)':\n",
      "- Antz (1998)\n",
      "- Toy Story 2 (1999)\n",
      "- Adventures of Rocky and Bullwinkle, The (2000)\n",
      "- Emperor's New Groove, The (2000)\n",
      "- Monsters, Inc. (2001)\n",
      "- Wild, The (2006)\n",
      "- Shrek the Third (2007)\n",
      "- Tale of Despereaux, The (2008)\n",
      "- Asterix and the Vikings (Astérix et les Vikings) (2006)\n",
      "- Turbo (2013)\n"
     ]
    }
   ],
   "source": [
    "if known_movies_cf:\n",
    "    example_movie_for_cb = known_movies_cf[0] # Take the first movie the user rated\n",
    "    recommendations_cb = get_recommendations_cb(example_movie_for_cb, df_movies_prep, cosine_sim)\n",
    "    print(f\"Content-Based Filtering Recommendations for Movie: {example_movie_for_cb}\")\n",
    "    print(\"=\"*70)\n",
    "    print(f\"Top 10 similar movies to '{example_movie_for_cb}':\")\n",
    "    for movie in recommendations_cb:\n",
    "        print(f\"- {movie}\")\n",
    "else:\n",
    "    print(\"User has not rated any movies, cannot provide content-based recommendations based on known movies.\")"
   ]
  },
  {
   "cell_type": "markdown",
   "id": "d438262b",
   "metadata": {},
   "source": [
    "## Evaluation\n",
    "\n",
    "Metrik evaluasi yang digunakan untuk Collaborative Filtering (LightFM) adalah Precision@k dan Recall@k. Precision@k mengukur proporsi item yang direkomendasikan yang relevan di antara k item teratas, sedangkan Recall@k mengukur proporsi item relevan yang berhasil direkomendasikan di antara semua item relevan. Metrik ini dipilih karena relevan untuk sistem rekomendasi, di mana tujuan utamanya adalah menyajikan daftar item yang paling mungkin disukai pengguna.\n",
    "\n",
    "Untuk Content-Based Filtering, evaluasi dilakukan secara kualitatif dengan memeriksa relevansi rekomendasi berdasarkan genre. Karena sifatnya yang berbasis konten, metrik kuantitatif seperti Precision/Recall kurang relevan tanpa adanya data eksplisit tentang preferensi genre pengguna.\n",
    "\n",
    "**Perbandingan Algoritma:**\n",
    "- **Collaborative Filtering (LightFM):**<br>\n",
    "Mampu menemukan rekomendasi yang tidak terduga (serendipitous) karena tidak hanya bergantung pada atribut item, tetapi juga pada perilaku pengguna lain. Namun, mungkin mengalami masalah cold-start untuk pengguna atau item baru yang belum memiliki interaksi yang cukup.\n",
    "- **Content-Based Filtering:**<br>\n",
    "Sangat baik dalam merekomendasikan item yang serupa dengan yang sudah disukai pengguna. Tidak mengalami masalah cold-start untuk item baru jika atribut kontennya tersedia. Namun, mungkin kurang mampu memberikan rekomendasi yang beragam atau tidak terduga karena terbatas pada atribut konten yang ada.\n",
    "\n",
    "Kedua algoritma memiliki kelebihan dan kekurangannya masing-masing, dan pilihan terbaik seringkali tergantung pada kasus penggunaan spesifik dan ketersediaan data."
   ]
  },
  {
   "cell_type": "code",
   "execution_count": null,
   "id": "a057b1fc",
   "metadata": {},
   "outputs": [],
   "source": []
  }
 ],
 "metadata": {
  "kernelspec": {
   "display_name": "Python 3 (ipykernel)",
   "language": "python",
   "name": "python3"
  },
  "language_info": {
   "codemirror_mode": {
    "name": "ipython",
    "version": 3
   },
   "file_extension": ".py",
   "mimetype": "text/x-python",
   "name": "python",
   "nbconvert_exporter": "python",
   "pygments_lexer": "ipython3",
   "version": "3.10.12"
  }
 },
 "nbformat": 4,
 "nbformat_minor": 5
}
