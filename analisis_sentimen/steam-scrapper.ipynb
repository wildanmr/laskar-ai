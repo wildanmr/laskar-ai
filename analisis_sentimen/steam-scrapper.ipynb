{
 "cells": [
  {
   "cell_type": "markdown",
   "id": "c9456d31",
   "metadata": {},
   "source": [
    "# Monster Hunter Wilds Reviews Scrapper\n",
    "---"
   ]
  },
  {
   "cell_type": "markdown",
   "id": "e582364b",
   "metadata": {},
   "source": [
    "### Import Library"
   ]
  },
  {
   "cell_type": "code",
   "execution_count": null,
   "id": "63154c6d",
   "metadata": {},
   "outputs": [],
   "source": [
    "from bs4 import BeautifulSoup\n",
    "import pandas as pd\n",
    "\n",
    "from selenium import webdriver\n",
    "from selenium.webdriver.edge.service import Service\n",
    "from selenium.webdriver.support.ui import WebDriverWait\n",
    "from selenium.webdriver.support import expected_conditions as EC\n",
    "from selenium.webdriver.common.by import By\n",
    "from selenium.common.exceptions import TimeoutException"
   ]
  },
  {
   "cell_type": "markdown",
   "id": "f9a97085",
   "metadata": {},
   "source": [
    "### Initiate WebDriver"
   ]
  },
  {
   "cell_type": "markdown",
   "id": "e44ccee2",
   "metadata": {},
   "source": [
    "> Edge WebDrive: https://developer.microsoft.com/en-us/microsoft-edge/tools/webdriver?form=MA13LH"
   ]
  },
  {
   "cell_type": "code",
   "execution_count": 2,
   "id": "32e5b14d",
   "metadata": {},
   "outputs": [],
   "source": [
    "service = Service(executable_path='C:/Dev/edgedriver_win64/msedgedriver.exe')\n",
    "driver = webdriver.Edge(service=service)\n",
    "url = 'https://steamcommunity.com/app/2246340/reviews/?p=1&browsefilter=toprated&filterLanguage=english'"
   ]
  },
  {
   "cell_type": "markdown",
   "id": "c0ad7b2d",
   "metadata": {},
   "source": [
    "### Scrapping"
   ]
  },
  {
   "cell_type": "code",
   "execution_count": null,
   "id": "99ed3165",
   "metadata": {},
   "outputs": [
    {
     "name": "stdout",
     "output_type": "stream",
     "text": [
      "Collected: 10 reviews\n",
      "Collected: 20 reviews\n",
      "Collected: 30 reviews\n",
      "Collected: 40 reviews\n",
      "Collected: 50 reviews\n",
      "Collected: 60 reviews\n",
      "Collected: 70 reviews\n",
      "Collected: 80 reviews\n",
      "Collected: 90 reviews\n",
      "Collected: 100 reviews\n",
      "Collected: 110 reviews\n",
      "Collected: 120 reviews\n",
      "Collected: 130 reviews\n",
      "Collected: 140 reviews\n",
      "Waited more than 10 seconds, but the element with CSS selector 'div#page15' was not found.\n"
     ]
    }
   ],
   "source": [
    "page=1\n",
    "reviews = []\n",
    "\n",
    "driver.get(url)\n",
    "while True:\n",
    "    soup = BeautifulSoup(driver.page_source,'html.parser')\n",
    "    page_div = soup.select_one(f\"div#page{page}\")\n",
    "    review_cards = page_div.select(\"div.apphub_Card.modalContentLink.interactable\")\n",
    "\n",
    "    for review_card in review_cards:\n",
    "        card = {}\n",
    "        card[\"url\"] = review_card.get(\"data-modal-content-url\")\n",
    "\n",
    "        textContainer = review_card.select_one(\"div.apphub_CardTextContent\")\n",
    "        \n",
    "        date_div = textContainer.select_one(\"div.date_posted\")\n",
    "        date_div.extract()\n",
    "        \n",
    "        for br in textContainer.find_all('br'):\n",
    "            br.replace_with('\\n')\n",
    "\n",
    "        card[\"review\"] = textContainer.get_text(strip=True)\n",
    "        card[\"is_recommended\"] = review_card.select_one(\"div.reviewInfo div.title\").text\n",
    "\n",
    "        reviews.append(card)\n",
    "\n",
    "    print(f\"Collected: {len(reviews)} reviews\")\n",
    "    page+=1\n",
    "\n",
    "    driver.execute_script(\"window.scrollTo(0, document.body.scrollHeight);\")\n",
    "    try:\n",
    "        WebDriverWait(driver, 30).until(EC.presence_of_element_located((By.CSS_SELECTOR, f\"div#page{page}\")))\n",
    "    except TimeoutException as e:\n",
    "        print(f\"Waited more than 30 seconds, but the element with CSS selector 'div#page{page}' was not found.\")\n",
    "        break\n",
    "\n",
    "pd.DataFrame(reviews).to_csv('mhwilds-reviews.csv', index=False)\n",
    "        "
   ]
  },
  {
   "cell_type": "code",
   "execution_count": null,
   "id": "642a89d2",
   "metadata": {},
   "outputs": [],
   "source": []
  }
 ],
 "metadata": {
  "kernelspec": {
   "display_name": "Python 3 (ipykernel)",
   "language": "python",
   "name": "python3"
  },
  "language_info": {
   "codemirror_mode": {
    "name": "ipython",
    "version": 3
   },
   "file_extension": ".py",
   "mimetype": "text/x-python",
   "name": "python",
   "nbconvert_exporter": "python",
   "pygments_lexer": "ipython3",
   "version": "3.10.12"
  }
 },
 "nbformat": 4,
 "nbformat_minor": 5
}
