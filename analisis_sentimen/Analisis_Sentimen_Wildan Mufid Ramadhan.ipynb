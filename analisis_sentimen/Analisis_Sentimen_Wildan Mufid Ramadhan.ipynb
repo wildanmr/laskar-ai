{
 "cells": [
  {
   "cell_type": "markdown",
   "id": "5d101612",
   "metadata": {},
   "source": [
    "# Monster Hunter Franchise Review Sentiment Analysis\n",
    "---"
   ]
  },
  {
   "cell_type": "markdown",
   "id": "c0ba3054",
   "metadata": {},
   "source": [
    "## 1. Read Scrapping Results"
   ]
  },
  {
   "cell_type": "code",
   "execution_count": null,
   "id": "f7ddfc67",
   "metadata": {},
   "outputs": [],
   "source": [
    "import pandas as pd"
   ]
  },
  {
   "cell_type": "code",
   "execution_count": 9,
   "id": "10b2cb66",
   "metadata": {},
   "outputs": [
    {
     "data": {
      "text/html": [
       "<div>\n",
       "<style scoped>\n",
       "    .dataframe tbody tr th:only-of-type {\n",
       "        vertical-align: middle;\n",
       "    }\n",
       "\n",
       "    .dataframe tbody tr th {\n",
       "        vertical-align: top;\n",
       "    }\n",
       "\n",
       "    .dataframe thead th {\n",
       "        text-align: right;\n",
       "    }\n",
       "</style>\n",
       "<table border=\"1\" class=\"dataframe\">\n",
       "  <thead>\n",
       "    <tr style=\"text-align: right;\">\n",
       "      <th></th>\n",
       "      <th>url</th>\n",
       "      <th>review</th>\n",
       "      <th>is_recommended</th>\n",
       "    </tr>\n",
       "  </thead>\n",
       "  <tbody>\n",
       "    <tr>\n",
       "      <th>0</th>\n",
       "      <td>https://steamcommunity.com/id/xSinek/recommend...</td>\n",
       "      <td>Monster Hunter Wilds: A Majestic Hunt Marred b...</td>\n",
       "      <td>Recommended</td>\n",
       "    </tr>\n",
       "    <tr>\n",
       "      <th>1</th>\n",
       "      <td>https://steamcommunity.com/id/ze11an/recommend...</td>\n",
       "      <td>Ride monster,Life good,Monster fight back,Kill...</td>\n",
       "      <td>Recommended</td>\n",
       "    </tr>\n",
       "    <tr>\n",
       "      <th>2</th>\n",
       "      <td>https://steamcommunity.com/profiles/7656119829...</td>\n",
       "      <td>If this review gets 1 like I will get an Arkve...</td>\n",
       "      <td>Recommended</td>\n",
       "    </tr>\n",
       "  </tbody>\n",
       "</table>\n",
       "</div>"
      ],
      "text/plain": [
       "                                                 url  \\\n",
       "0  https://steamcommunity.com/id/xSinek/recommend...   \n",
       "1  https://steamcommunity.com/id/ze11an/recommend...   \n",
       "2  https://steamcommunity.com/profiles/7656119829...   \n",
       "\n",
       "                                              review is_recommended  \n",
       "0  Monster Hunter Wilds: A Majestic Hunt Marred b...    Recommended  \n",
       "1  Ride monster,Life good,Monster fight back,Kill...    Recommended  \n",
       "2  If this review gets 1 like I will get an Arkve...    Recommended  "
      ]
     },
     "execution_count": 9,
     "metadata": {},
     "output_type": "execute_result"
    }
   ],
   "source": [
    "column_names = ['url', 'review', 'is_recommended']\n",
    "\n",
    "df_mhwilds = pd.read_csv(\"./data/mhwilds-reviews.csv\", header=None, names=column_names)\n",
    "df_mhwilds.head(3)"
   ]
  },
  {
   "cell_type": "code",
   "execution_count": 10,
   "id": "c725c393",
   "metadata": {},
   "outputs": [
    {
     "data": {
      "text/html": [
       "<div>\n",
       "<style scoped>\n",
       "    .dataframe tbody tr th:only-of-type {\n",
       "        vertical-align: middle;\n",
       "    }\n",
       "\n",
       "    .dataframe tbody tr th {\n",
       "        vertical-align: top;\n",
       "    }\n",
       "\n",
       "    .dataframe thead th {\n",
       "        text-align: right;\n",
       "    }\n",
       "</style>\n",
       "<table border=\"1\" class=\"dataframe\">\n",
       "  <thead>\n",
       "    <tr style=\"text-align: right;\">\n",
       "      <th></th>\n",
       "      <th>url</th>\n",
       "      <th>review</th>\n",
       "      <th>is_recommended</th>\n",
       "    </tr>\n",
       "  </thead>\n",
       "  <tbody>\n",
       "    <tr>\n",
       "      <th>0</th>\n",
       "      <td>https://steamcommunity.com/profiles/7656119816...</td>\n",
       "      <td>I've been playing for 3 Hours and its already ...</td>\n",
       "      <td>Recommended</td>\n",
       "    </tr>\n",
       "    <tr>\n",
       "      <th>1</th>\n",
       "      <td>https://steamcommunity.com/id/metaLfaceshriLL/...</td>\n",
       "      <td>I LOVE KILLING ENDANGERED SPECIES</td>\n",
       "      <td>Recommended</td>\n",
       "    </tr>\n",
       "    <tr>\n",
       "      <th>2</th>\n",
       "      <td>https://steamcommunity.com/profiles/7656119831...</td>\n",
       "      <td>Many monsters think they can outsmart me with ...</td>\n",
       "      <td>Recommended</td>\n",
       "    </tr>\n",
       "  </tbody>\n",
       "</table>\n",
       "</div>"
      ],
      "text/plain": [
       "                                                 url  \\\n",
       "0  https://steamcommunity.com/profiles/7656119816...   \n",
       "1  https://steamcommunity.com/id/metaLfaceshriLL/...   \n",
       "2  https://steamcommunity.com/profiles/7656119831...   \n",
       "\n",
       "                                              review is_recommended  \n",
       "0  I've been playing for 3 Hours and its already ...    Recommended  \n",
       "1                  I LOVE KILLING ENDANGERED SPECIES    Recommended  \n",
       "2  Many monsters think they can outsmart me with ...    Recommended  "
      ]
     },
     "execution_count": 10,
     "metadata": {},
     "output_type": "execute_result"
    }
   ],
   "source": [
    "df_mhrise = pd.read_csv(\"./data/mhrise-reviews.csv\", header=None, names=column_names)\n",
    "df_mhrise.head(3)"
   ]
  },
  {
   "cell_type": "code",
   "execution_count": 15,
   "id": "62a404cf",
   "metadata": {},
   "outputs": [
    {
     "data": {
      "text/html": [
       "<div>\n",
       "<style scoped>\n",
       "    .dataframe tbody tr th:only-of-type {\n",
       "        vertical-align: middle;\n",
       "    }\n",
       "\n",
       "    .dataframe tbody tr th {\n",
       "        vertical-align: top;\n",
       "    }\n",
       "\n",
       "    .dataframe thead th {\n",
       "        text-align: right;\n",
       "    }\n",
       "</style>\n",
       "<table border=\"1\" class=\"dataframe\">\n",
       "  <thead>\n",
       "    <tr style=\"text-align: right;\">\n",
       "      <th></th>\n",
       "      <th>url</th>\n",
       "      <th>review</th>\n",
       "      <th>is_recommended</th>\n",
       "    </tr>\n",
       "  </thead>\n",
       "  <tbody>\n",
       "    <tr>\n",
       "      <th>0</th>\n",
       "      <td>https://steamcommunity.com/id/xSinek/recommend...</td>\n",
       "      <td>Monster Hunter Wilds: A Majestic Hunt Marred b...</td>\n",
       "      <td>Recommended</td>\n",
       "    </tr>\n",
       "    <tr>\n",
       "      <th>1</th>\n",
       "      <td>https://steamcommunity.com/id/ze11an/recommend...</td>\n",
       "      <td>Ride monster,Life good,Monster fight back,Kill...</td>\n",
       "      <td>Recommended</td>\n",
       "    </tr>\n",
       "    <tr>\n",
       "      <th>2</th>\n",
       "      <td>https://steamcommunity.com/profiles/7656119829...</td>\n",
       "      <td>If this review gets 1 like I will get an Arkve...</td>\n",
       "      <td>Recommended</td>\n",
       "    </tr>\n",
       "    <tr>\n",
       "      <th>3</th>\n",
       "      <td>https://steamcommunity.com/profiles/7656119948...</td>\n",
       "      <td>My grandma runs better than this game</td>\n",
       "      <td>Not Recommended</td>\n",
       "    </tr>\n",
       "    <tr>\n",
       "      <th>4</th>\n",
       "      <td>https://steamcommunity.com/id/kirigherkins/rec...</td>\n",
       "      <td>very immersive game. you can cook a well-done ...</td>\n",
       "      <td>Recommended</td>\n",
       "    </tr>\n",
       "    <tr>\n",
       "      <th>...</th>\n",
       "      <td>...</td>\n",
       "      <td>...</td>\n",
       "      <td>...</td>\n",
       "    </tr>\n",
       "    <tr>\n",
       "      <th>18595</th>\n",
       "      <td>https://steamcommunity.com/profiles/7656119798...</td>\n",
       "      <td>DRM that breaks the game.</td>\n",
       "      <td>Not Recommended</td>\n",
       "    </tr>\n",
       "    <tr>\n",
       "      <th>18596</th>\n",
       "      <td>https://steamcommunity.com/profiles/7656119805...</td>\n",
       "      <td>Capcom decided to break another game that work...</td>\n",
       "      <td>Not Recommended</td>\n",
       "    </tr>\n",
       "    <tr>\n",
       "      <th>18597</th>\n",
       "      <td>https://steamcommunity.com/id/sopheon/recommen...</td>\n",
       "      <td>New DRM added years after release left the gam...</td>\n",
       "      <td>Not Recommended</td>\n",
       "    </tr>\n",
       "    <tr>\n",
       "      <th>18598</th>\n",
       "      <td>https://steamcommunity.com/profiles/7656119820...</td>\n",
       "      <td>Adding DRM to a game that came out two years a...</td>\n",
       "      <td>Not Recommended</td>\n",
       "    </tr>\n",
       "    <tr>\n",
       "      <th>18599</th>\n",
       "      <td>https://steamcommunity.com/id/blaster__master/...</td>\n",
       "      <td>Take your DRM and shove it capcom, your alread...</td>\n",
       "      <td>Not Recommended</td>\n",
       "    </tr>\n",
       "  </tbody>\n",
       "</table>\n",
       "<p>18600 rows × 3 columns</p>\n",
       "</div>"
      ],
      "text/plain": [
       "                                                     url  \\\n",
       "0      https://steamcommunity.com/id/xSinek/recommend...   \n",
       "1      https://steamcommunity.com/id/ze11an/recommend...   \n",
       "2      https://steamcommunity.com/profiles/7656119829...   \n",
       "3      https://steamcommunity.com/profiles/7656119948...   \n",
       "4      https://steamcommunity.com/id/kirigherkins/rec...   \n",
       "...                                                  ...   \n",
       "18595  https://steamcommunity.com/profiles/7656119798...   \n",
       "18596  https://steamcommunity.com/profiles/7656119805...   \n",
       "18597  https://steamcommunity.com/id/sopheon/recommen...   \n",
       "18598  https://steamcommunity.com/profiles/7656119820...   \n",
       "18599  https://steamcommunity.com/id/blaster__master/...   \n",
       "\n",
       "                                                  review   is_recommended  \n",
       "0      Monster Hunter Wilds: A Majestic Hunt Marred b...      Recommended  \n",
       "1      Ride monster,Life good,Monster fight back,Kill...      Recommended  \n",
       "2      If this review gets 1 like I will get an Arkve...      Recommended  \n",
       "3                  My grandma runs better than this game  Not Recommended  \n",
       "4      very immersive game. you can cook a well-done ...      Recommended  \n",
       "...                                                  ...              ...  \n",
       "18595                          DRM that breaks the game.  Not Recommended  \n",
       "18596  Capcom decided to break another game that work...  Not Recommended  \n",
       "18597  New DRM added years after release left the gam...  Not Recommended  \n",
       "18598  Adding DRM to a game that came out two years a...  Not Recommended  \n",
       "18599  Take your DRM and shove it capcom, your alread...  Not Recommended  \n",
       "\n",
       "[18600 rows x 3 columns]"
      ]
     },
     "execution_count": 15,
     "metadata": {},
     "output_type": "execute_result"
    }
   ],
   "source": [
    "df_monsterhunter = pd.concat([df_mhwilds, df_mhrise], ignore_index=True)\n",
    "df_monsterhunter"
   ]
  },
  {
   "cell_type": "code",
   "execution_count": 16,
   "id": "6a6428c5",
   "metadata": {},
   "outputs": [
    {
     "data": {
      "text/html": [
       "<div>\n",
       "<style scoped>\n",
       "    .dataframe tbody tr th:only-of-type {\n",
       "        vertical-align: middle;\n",
       "    }\n",
       "\n",
       "    .dataframe tbody tr th {\n",
       "        vertical-align: top;\n",
       "    }\n",
       "\n",
       "    .dataframe thead th {\n",
       "        text-align: right;\n",
       "    }\n",
       "</style>\n",
       "<table border=\"1\" class=\"dataframe\">\n",
       "  <thead>\n",
       "    <tr style=\"text-align: right;\">\n",
       "      <th></th>\n",
       "      <th>url</th>\n",
       "      <th>review</th>\n",
       "      <th>is_recommended</th>\n",
       "    </tr>\n",
       "  </thead>\n",
       "  <tbody>\n",
       "    <tr>\n",
       "      <th>count</th>\n",
       "      <td>18600</td>\n",
       "      <td>18581</td>\n",
       "      <td>18600</td>\n",
       "    </tr>\n",
       "    <tr>\n",
       "      <th>unique</th>\n",
       "      <td>18598</td>\n",
       "      <td>17860</td>\n",
       "      <td>2</td>\n",
       "    </tr>\n",
       "    <tr>\n",
       "      <th>top</th>\n",
       "      <td>https://steamcommunity.com/profiles/7656119807...</td>\n",
       "      <td>yes</td>\n",
       "      <td>Recommended</td>\n",
       "    </tr>\n",
       "    <tr>\n",
       "      <th>freq</th>\n",
       "      <td>2</td>\n",
       "      <td>46</td>\n",
       "      <td>9888</td>\n",
       "    </tr>\n",
       "  </tbody>\n",
       "</table>\n",
       "</div>"
      ],
      "text/plain": [
       "                                                      url review  \\\n",
       "count                                               18600  18581   \n",
       "unique                                              18598  17860   \n",
       "top     https://steamcommunity.com/profiles/7656119807...    yes   \n",
       "freq                                                    2     46   \n",
       "\n",
       "       is_recommended  \n",
       "count           18600  \n",
       "unique              2  \n",
       "top       Recommended  \n",
       "freq             9888  "
      ]
     },
     "execution_count": 16,
     "metadata": {},
     "output_type": "execute_result"
    }
   ],
   "source": [
    "df_monsterhunter.describe()"
   ]
  },
  {
   "cell_type": "markdown",
   "id": "4aff493c",
   "metadata": {},
   "source": [
    "## 2. Text Cleaning / Preprocessing"
   ]
  },
  {
   "cell_type": "code",
   "execution_count": 95,
   "id": "63d78eb3",
   "metadata": {},
   "outputs": [],
   "source": [
    "import re\n",
    "import nltk\n",
    "from nltk.corpus import stopwords\n",
    "from nltk.stem import WordNetLemmatizer\n",
    "from nltk.tokenize import word_tokenize\n",
    "from nltk.sentiment.vader import SentimentIntensityAnalyzer\n",
    "from sklearn.model_selection import train_test_split"
   ]
  },
  {
   "cell_type": "code",
   "execution_count": 59,
   "id": "32806bc8",
   "metadata": {},
   "outputs": [
    {
     "name": "stderr",
     "output_type": "stream",
     "text": [
      "[nltk_data] Downloading package stopwords to /root/nltk_data...\n",
      "[nltk_data]   Package stopwords is already up-to-date!\n",
      "[nltk_data] Downloading package wordnet to /root/nltk_data...\n",
      "[nltk_data]   Package wordnet is already up-to-date!\n",
      "[nltk_data] Downloading package punkt_tab to /root/nltk_data...\n",
      "[nltk_data]   Package punkt_tab is already up-to-date!\n",
      "[nltk_data] Downloading package vader_lexicon to /root/nltk_data...\n"
     ]
    },
    {
     "data": {
      "text/plain": [
       "True"
      ]
     },
     "execution_count": 59,
     "metadata": {},
     "output_type": "execute_result"
    }
   ],
   "source": [
    "nltk.download(\"stopwords\")\n",
    "nltk.download(\"wordnet\")\n",
    "nltk.download('punkt_tab')\n",
    "nltk.download('vader_lexicon')"
   ]
  },
  {
   "cell_type": "code",
   "execution_count": 80,
   "id": "7087a267",
   "metadata": {},
   "outputs": [],
   "source": [
    "df_prep = df_monsterhunter.copy()"
   ]
  },
  {
   "cell_type": "code",
   "execution_count": 81,
   "id": "3928a67e",
   "metadata": {},
   "outputs": [
    {
     "name": "stdout",
     "output_type": "stream",
     "text": [
      "<class 'pandas.core.frame.DataFrame'>\n",
      "RangeIndex: 18600 entries, 0 to 18599\n",
      "Data columns (total 3 columns):\n",
      " #   Column          Non-Null Count  Dtype \n",
      "---  ------          --------------  ----- \n",
      " 0   url             18600 non-null  object\n",
      " 1   review          18581 non-null  object\n",
      " 2   is_recommended  18600 non-null  object\n",
      "dtypes: object(3)\n",
      "memory usage: 436.1+ KB\n"
     ]
    }
   ],
   "source": [
    "df_prep.info()"
   ]
  },
  {
   "cell_type": "code",
   "execution_count": 82,
   "id": "1f223216",
   "metadata": {},
   "outputs": [
    {
     "name": "stdout",
     "output_type": "stream",
     "text": [
      "<class 'pandas.core.frame.DataFrame'>\n",
      "RangeIndex: 18600 entries, 0 to 18599\n",
      "Data columns (total 3 columns):\n",
      " #   Column          Non-Null Count  Dtype \n",
      "---  ------          --------------  ----- \n",
      " 0   url             18600 non-null  string\n",
      " 1   review          18581 non-null  string\n",
      " 2   is_recommended  18600 non-null  string\n",
      "dtypes: string(3)\n",
      "memory usage: 436.1 KB\n"
     ]
    }
   ],
   "source": [
    "df_prep.url = df_prep.url.astype(\"string\")\n",
    "df_prep.review = df_prep.review.astype(\"string\")\n",
    "df_prep.is_recommended = df_prep.is_recommended.astype(\"string\")\n",
    "\n",
    "df_prep.info()"
   ]
  },
  {
   "cell_type": "markdown",
   "id": "c3fb9074",
   "metadata": {},
   "source": [
    "* Handle Negations (Critical for Sentiment)"
   ]
  },
  {
   "cell_type": "code",
   "execution_count": 83,
   "id": "9cfef556",
   "metadata": {},
   "outputs": [],
   "source": [
    "def handle_negations(text):\n",
    "    negation_words = r'\\b(?:not|no|never|cannot|can\\'t|won\\'t|didn\\'t|doesn\\'t|don\\'t|isn\\'t|aren\\'t|wasn\\'t|weren\\'t|shouldn\\'t|couldn\\'t|wouldn\\'t|haven\\'t|hasn\\'t|hadn\\'t)\\b'\n",
    "    pattern = re.compile(rf'({negation_words})\\s+([a-zA-Z]+)')\n",
    "    return pattern.sub(lambda m: f\"{m.group(1)}_{m.group(2)}\", text)"
   ]
  },
  {
   "cell_type": "markdown",
   "id": "d003af96",
   "metadata": {},
   "source": [
    "* Strip HTML tags, URLs, and special characters (e.g., \\n, emojis)"
   ]
  },
  {
   "cell_type": "code",
   "execution_count": 84,
   "id": "dbd87620",
   "metadata": {},
   "outputs": [],
   "source": [
    "def clean_text(text):\n",
    "    text = re.sub(r'<.*?>', '', text)  # Remove HTML tags\n",
    "    text = re.sub(r'http\\S+', '', text)  # Remove URLs\n",
    "    text = handle_negations(text)\n",
    "    text = re.sub(r'[^a-zA-Z_\\s]', '', text)  # Keep only letters and spaces\n",
    "    return text.strip()"
   ]
  },
  {
   "cell_type": "markdown",
   "id": "5bca615d",
   "metadata": {},
   "source": [
    "* Lowercase conversion"
   ]
  },
  {
   "cell_type": "code",
   "execution_count": 85,
   "id": "2c9bdc3c",
   "metadata": {},
   "outputs": [],
   "source": [
    "df_prep['cleaned_review'] = df_prep['review'].apply(lambda x: clean_text(str(x)).lower())"
   ]
  },
  {
   "cell_type": "code",
   "execution_count": 86,
   "id": "d203fa2a",
   "metadata": {},
   "outputs": [
    {
     "data": {
      "text/html": [
       "<div>\n",
       "<style scoped>\n",
       "    .dataframe tbody tr th:only-of-type {\n",
       "        vertical-align: middle;\n",
       "    }\n",
       "\n",
       "    .dataframe tbody tr th {\n",
       "        vertical-align: top;\n",
       "    }\n",
       "\n",
       "    .dataframe thead th {\n",
       "        text-align: right;\n",
       "    }\n",
       "</style>\n",
       "<table border=\"1\" class=\"dataframe\">\n",
       "  <thead>\n",
       "    <tr style=\"text-align: right;\">\n",
       "      <th></th>\n",
       "      <th>review</th>\n",
       "      <th>cleaned_review</th>\n",
       "    </tr>\n",
       "  </thead>\n",
       "  <tbody>\n",
       "    <tr>\n",
       "      <th>0</th>\n",
       "      <td>Monster Hunter Wilds: A Majestic Hunt Marred b...</td>\n",
       "      <td>monster hunter wilds a majestic hunt marred by...</td>\n",
       "    </tr>\n",
       "    <tr>\n",
       "      <th>1</th>\n",
       "      <td>Ride monster,Life good,Monster fight back,Kill...</td>\n",
       "      <td>ride monsterlife goodmonster fight backkill mo...</td>\n",
       "    </tr>\n",
       "    <tr>\n",
       "      <th>2</th>\n",
       "      <td>If this review gets 1 like I will get an Arkve...</td>\n",
       "      <td>if this review gets  like i will get an arkvel...</td>\n",
       "    </tr>\n",
       "  </tbody>\n",
       "</table>\n",
       "</div>"
      ],
      "text/plain": [
       "                                              review  \\\n",
       "0  Monster Hunter Wilds: A Majestic Hunt Marred b...   \n",
       "1  Ride monster,Life good,Monster fight back,Kill...   \n",
       "2  If this review gets 1 like I will get an Arkve...   \n",
       "\n",
       "                                      cleaned_review  \n",
       "0  monster hunter wilds a majestic hunt marred by...  \n",
       "1  ride monsterlife goodmonster fight backkill mo...  \n",
       "2  if this review gets  like i will get an arkvel...  "
      ]
     },
     "execution_count": 86,
     "metadata": {},
     "output_type": "execute_result"
    }
   ],
   "source": [
    "df_prep[[\"review\", \"cleaned_review\"]].head(3)"
   ]
  },
  {
   "cell_type": "markdown",
   "id": "da8e17da",
   "metadata": {},
   "source": [
    "* Tokenization "
   ]
  },
  {
   "cell_type": "code",
   "execution_count": 87,
   "id": "a7a73a69",
   "metadata": {},
   "outputs": [
    {
     "data": {
      "text/html": [
       "<div>\n",
       "<style scoped>\n",
       "    .dataframe tbody tr th:only-of-type {\n",
       "        vertical-align: middle;\n",
       "    }\n",
       "\n",
       "    .dataframe tbody tr th {\n",
       "        vertical-align: top;\n",
       "    }\n",
       "\n",
       "    .dataframe thead th {\n",
       "        text-align: right;\n",
       "    }\n",
       "</style>\n",
       "<table border=\"1\" class=\"dataframe\">\n",
       "  <thead>\n",
       "    <tr style=\"text-align: right;\">\n",
       "      <th></th>\n",
       "      <th>cleaned_review</th>\n",
       "      <th>tokens</th>\n",
       "    </tr>\n",
       "  </thead>\n",
       "  <tbody>\n",
       "    <tr>\n",
       "      <th>0</th>\n",
       "      <td>monster hunter wilds a majestic hunt marred by...</td>\n",
       "      <td>[monster, hunter, wilds, a, majestic, hunt, ma...</td>\n",
       "    </tr>\n",
       "    <tr>\n",
       "      <th>1</th>\n",
       "      <td>ride monsterlife goodmonster fight backkill mo...</td>\n",
       "      <td>[ride, monsterlife, goodmonster, fight, backki...</td>\n",
       "    </tr>\n",
       "    <tr>\n",
       "      <th>2</th>\n",
       "      <td>if this review gets  like i will get an arkvel...</td>\n",
       "      <td>[if, this, review, gets, like, i, will, get, a...</td>\n",
       "    </tr>\n",
       "  </tbody>\n",
       "</table>\n",
       "</div>"
      ],
      "text/plain": [
       "                                      cleaned_review  \\\n",
       "0  monster hunter wilds a majestic hunt marred by...   \n",
       "1  ride monsterlife goodmonster fight backkill mo...   \n",
       "2  if this review gets  like i will get an arkvel...   \n",
       "\n",
       "                                              tokens  \n",
       "0  [monster, hunter, wilds, a, majestic, hunt, ma...  \n",
       "1  [ride, monsterlife, goodmonster, fight, backki...  \n",
       "2  [if, this, review, gets, like, i, will, get, a...  "
      ]
     },
     "execution_count": 87,
     "metadata": {},
     "output_type": "execute_result"
    }
   ],
   "source": [
    "df_prep['tokens'] = df_prep['cleaned_review'].apply(word_tokenize)\n",
    "df_prep[[\"cleaned_review\", \"tokens\"]].head(3)"
   ]
  },
  {
   "cell_type": "markdown",
   "id": "e502bde5",
   "metadata": {},
   "source": [
    "* Lemmatization/Stemming"
   ]
  },
  {
   "cell_type": "code",
   "execution_count": 88,
   "id": "20313f77",
   "metadata": {},
   "outputs": [],
   "source": [
    "stop_words = set(stopwords.words(\"english\"))\n",
    "lemmatizer = WordNetLemmatizer()"
   ]
  },
  {
   "cell_type": "code",
   "execution_count": 89,
   "id": "ab44f039",
   "metadata": {},
   "outputs": [
    {
     "data": {
      "text/html": [
       "<div>\n",
       "<style scoped>\n",
       "    .dataframe tbody tr th:only-of-type {\n",
       "        vertical-align: middle;\n",
       "    }\n",
       "\n",
       "    .dataframe tbody tr th {\n",
       "        vertical-align: top;\n",
       "    }\n",
       "\n",
       "    .dataframe thead th {\n",
       "        text-align: right;\n",
       "    }\n",
       "</style>\n",
       "<table border=\"1\" class=\"dataframe\">\n",
       "  <thead>\n",
       "    <tr style=\"text-align: right;\">\n",
       "      <th></th>\n",
       "      <th>tokens</th>\n",
       "      <th>lemmatized</th>\n",
       "    </tr>\n",
       "  </thead>\n",
       "  <tbody>\n",
       "    <tr>\n",
       "      <th>0</th>\n",
       "      <td>[monster, hunter, wilds, a, majestic, hunt, ma...</td>\n",
       "      <td>[monster, hunter, wild, majestic, hunt, marred...</td>\n",
       "    </tr>\n",
       "    <tr>\n",
       "      <th>1</th>\n",
       "      <td>[ride, monsterlife, goodmonster, fight, backki...</td>\n",
       "      <td>[ride, monsterlife, goodmonster, fight, backki...</td>\n",
       "    </tr>\n",
       "    <tr>\n",
       "      <th>2</th>\n",
       "      <td>[if, this, review, gets, like, i, will, get, a...</td>\n",
       "      <td>[review, get, like, get, arkveld, tattoo, fore...</td>\n",
       "    </tr>\n",
       "  </tbody>\n",
       "</table>\n",
       "</div>"
      ],
      "text/plain": [
       "                                              tokens  \\\n",
       "0  [monster, hunter, wilds, a, majestic, hunt, ma...   \n",
       "1  [ride, monsterlife, goodmonster, fight, backki...   \n",
       "2  [if, this, review, gets, like, i, will, get, a...   \n",
       "\n",
       "                                          lemmatized  \n",
       "0  [monster, hunter, wild, majestic, hunt, marred...  \n",
       "1  [ride, monsterlife, goodmonster, fight, backki...  \n",
       "2  [review, get, like, get, arkveld, tattoo, fore...  "
      ]
     },
     "execution_count": 89,
     "metadata": {},
     "output_type": "execute_result"
    }
   ],
   "source": [
    "df_prep['lemmatized'] = df_prep['tokens'].apply(lambda x: [lemmatizer.lemmatize(word) for word in x if word not in stop_words])\n",
    "df_prep[[\"tokens\", \"lemmatized\"]].head(3)"
   ]
  },
  {
   "cell_type": "markdown",
   "id": "7d2e3c61",
   "metadata": {},
   "source": [
    "* Labeling with VADER"
   ]
  },
  {
   "cell_type": "code",
   "execution_count": 90,
   "id": "3d72690e",
   "metadata": {},
   "outputs": [],
   "source": [
    "sid = SentimentIntensityAnalyzer()\n",
    "\n",
    "def get_sentiment(text):\n",
    "    scores = sid.polarity_scores(text)\n",
    "    if scores['compound'] > 0.05:\n",
    "        return 'positive'\n",
    "    elif scores['compound'] < -0.05:\n",
    "        return 'negative'\n",
    "    else:\n",
    "        return 'neutral'"
   ]
  },
  {
   "cell_type": "code",
   "execution_count": 91,
   "id": "ab64a964",
   "metadata": {},
   "outputs": [
    {
     "data": {
      "text/html": [
       "<div>\n",
       "<style scoped>\n",
       "    .dataframe tbody tr th:only-of-type {\n",
       "        vertical-align: middle;\n",
       "    }\n",
       "\n",
       "    .dataframe tbody tr th {\n",
       "        vertical-align: top;\n",
       "    }\n",
       "\n",
       "    .dataframe thead th {\n",
       "        text-align: right;\n",
       "    }\n",
       "</style>\n",
       "<table border=\"1\" class=\"dataframe\">\n",
       "  <thead>\n",
       "    <tr style=\"text-align: right;\">\n",
       "      <th></th>\n",
       "      <th>url</th>\n",
       "      <th>review</th>\n",
       "      <th>is_recommended</th>\n",
       "      <th>cleaned_review</th>\n",
       "      <th>tokens</th>\n",
       "      <th>lemmatized</th>\n",
       "      <th>sentiment</th>\n",
       "    </tr>\n",
       "  </thead>\n",
       "  <tbody>\n",
       "    <tr>\n",
       "      <th>0</th>\n",
       "      <td>https://steamcommunity.com/id/xSinek/recommend...</td>\n",
       "      <td>Monster Hunter Wilds: A Majestic Hunt Marred b...</td>\n",
       "      <td>Recommended</td>\n",
       "      <td>monster hunter wilds a majestic hunt marred by...</td>\n",
       "      <td>[monster, hunter, wilds, a, majestic, hunt, ma...</td>\n",
       "      <td>[monster, hunter, wild, majestic, hunt, marred...</td>\n",
       "      <td>positive</td>\n",
       "    </tr>\n",
       "    <tr>\n",
       "      <th>1</th>\n",
       "      <td>https://steamcommunity.com/id/ze11an/recommend...</td>\n",
       "      <td>Ride monster,Life good,Monster fight back,Kill...</td>\n",
       "      <td>Recommended</td>\n",
       "      <td>ride monsterlife goodmonster fight backkill mo...</td>\n",
       "      <td>[ride, monsterlife, goodmonster, fight, backki...</td>\n",
       "      <td>[ride, monsterlife, goodmonster, fight, backki...</td>\n",
       "      <td>negative</td>\n",
       "    </tr>\n",
       "    <tr>\n",
       "      <th>2</th>\n",
       "      <td>https://steamcommunity.com/profiles/7656119829...</td>\n",
       "      <td>If this review gets 1 like I will get an Arkve...</td>\n",
       "      <td>Recommended</td>\n",
       "      <td>if this review gets  like i will get an arkvel...</td>\n",
       "      <td>[if, this, review, gets, like, i, will, get, a...</td>\n",
       "      <td>[review, get, like, get, arkveld, tattoo, fore...</td>\n",
       "      <td>positive</td>\n",
       "    </tr>\n",
       "  </tbody>\n",
       "</table>\n",
       "</div>"
      ],
      "text/plain": [
       "                                                 url  \\\n",
       "0  https://steamcommunity.com/id/xSinek/recommend...   \n",
       "1  https://steamcommunity.com/id/ze11an/recommend...   \n",
       "2  https://steamcommunity.com/profiles/7656119829...   \n",
       "\n",
       "                                              review is_recommended  \\\n",
       "0  Monster Hunter Wilds: A Majestic Hunt Marred b...    Recommended   \n",
       "1  Ride monster,Life good,Monster fight back,Kill...    Recommended   \n",
       "2  If this review gets 1 like I will get an Arkve...    Recommended   \n",
       "\n",
       "                                      cleaned_review  \\\n",
       "0  monster hunter wilds a majestic hunt marred by...   \n",
       "1  ride monsterlife goodmonster fight backkill mo...   \n",
       "2  if this review gets  like i will get an arkvel...   \n",
       "\n",
       "                                              tokens  \\\n",
       "0  [monster, hunter, wilds, a, majestic, hunt, ma...   \n",
       "1  [ride, monsterlife, goodmonster, fight, backki...   \n",
       "2  [if, this, review, gets, like, i, will, get, a...   \n",
       "\n",
       "                                          lemmatized sentiment  \n",
       "0  [monster, hunter, wild, majestic, hunt, marred...  positive  \n",
       "1  [ride, monsterlife, goodmonster, fight, backki...  negative  \n",
       "2  [review, get, like, get, arkveld, tattoo, fore...  positive  "
      ]
     },
     "execution_count": 91,
     "metadata": {},
     "output_type": "execute_result"
    }
   ],
   "source": [
    "df_prep['sentiment'] = df_prep['cleaned_review'].apply(get_sentiment)\n",
    "df_prep.head(3)"
   ]
  },
  {
   "cell_type": "code",
   "execution_count": 93,
   "id": "db144d53",
   "metadata": {},
   "outputs": [
    {
     "data": {
      "text/plain": [
       "is_recommended\n",
       "Recommended        9888\n",
       "Not Recommended    8712\n",
       "Name: count, dtype: Int64"
      ]
     },
     "execution_count": 93,
     "metadata": {},
     "output_type": "execute_result"
    }
   ],
   "source": [
    "df_prep[\"is_recommended\"].value_counts()"
   ]
  },
  {
   "cell_type": "code",
   "execution_count": 92,
   "id": "bc1f4997",
   "metadata": {},
   "outputs": [
    {
     "data": {
      "text/plain": [
       "sentiment\n",
       "positive    10620\n",
       "negative     4223\n",
       "neutral      3757\n",
       "Name: count, dtype: int64"
      ]
     },
     "execution_count": 92,
     "metadata": {},
     "output_type": "execute_result"
    }
   ],
   "source": [
    "df_prep[\"sentiment\"].value_counts()"
   ]
  },
  {
   "cell_type": "code",
   "execution_count": 98,
   "id": "fdd49f66",
   "metadata": {},
   "outputs": [],
   "source": [
    "x_train, x_test, y_train, y_test = train_test_split(df_prep[\"cleaned_review\"], df_prep[\"sentiment\"], test_size=0.2, random_state=42)"
   ]
  },
  {
   "cell_type": "code",
   "execution_count": 104,
   "id": "d1ecb763",
   "metadata": {},
   "outputs": [
    {
     "name": "stdout",
     "output_type": "stream",
     "text": [
      "Train data: (14880,)\n",
      "Test data: (3720,)\n"
     ]
    }
   ],
   "source": [
    "print(f\"Train data: {x_train.shape}\")\n",
    "print(f\"Test data: {x_test.shape}\")"
   ]
  },
  {
   "cell_type": "markdown",
   "id": "4fcfb973",
   "metadata": {},
   "source": [
    "## Feature Extraction"
   ]
  },
  {
   "cell_type": "code",
   "execution_count": 153,
   "id": "6751c85f",
   "metadata": {},
   "outputs": [],
   "source": [
    "from sklearn.feature_extraction.text import TfidfVectorizer\n",
    "from gensim.models import Word2Vec\n",
    "import numpy as np"
   ]
  },
  {
   "cell_type": "markdown",
   "id": "662db587",
   "metadata": {},
   "source": [
    "### 1. TF-IDF (Term Frequency-Inverse Document Frequency)"
   ]
  },
  {
   "cell_type": "code",
   "execution_count": 131,
   "id": "51075673",
   "metadata": {},
   "outputs": [],
   "source": [
    "tfidf = TfidfVectorizer(max_features=5000)\n",
    "x_train_tfidf = tfidf.fit_transform(x_train)\n",
    "x_test_tfidf = tfidf.transform(x_test)"
   ]
  },
  {
   "cell_type": "code",
   "execution_count": 108,
   "id": "b11343d4",
   "metadata": {},
   "outputs": [
    {
     "name": "stdout",
     "output_type": "stream",
     "text": [
      "Train data: (14880, 5000)\n",
      "Test data: (3720, 5000)\n"
     ]
    }
   ],
   "source": [
    "print(f\"Train data: {x_train_tfidf.shape}\")\n",
    "print(f\"Test data: {x_test_tfidf.shape}\")"
   ]
  },
  {
   "cell_type": "markdown",
   "id": "e5f19894",
   "metadata": {},
   "source": [
    "### 2. Word Embeddings (Word2Vec)"
   ]
  },
  {
   "cell_type": "code",
   "execution_count": 130,
   "id": "8cd4f7d2",
   "metadata": {},
   "outputs": [],
   "source": [
    "tokenized_train = [text.split() for text in x_train]\n",
    "tokenized_test = [text.split() for text in x_test]\n",
    "\n",
    "w2v_model = Word2Vec(tokenized_train, vector_size=300, window=5, min_count=1, workers=4)"
   ]
  },
  {
   "cell_type": "code",
   "execution_count": 112,
   "id": "210391cb",
   "metadata": {},
   "outputs": [],
   "source": [
    "def average_word_vectors(text, model, num_features):\n",
    "    feature_vector = np.zeros((num_features,), dtype=\"float32\")\n",
    "    n_words = 0\n",
    "    for word in text:\n",
    "        if word in model.wv:\n",
    "            feature_vector = np.add(feature_vector, model.wv[word])\n",
    "            n_words += 1\n",
    "    if n_words > 0:\n",
    "        feature_vector = np.divide(feature_vector, n_words)\n",
    "    return feature_vector"
   ]
  },
  {
   "cell_type": "code",
   "execution_count": 113,
   "id": "b459feef",
   "metadata": {},
   "outputs": [],
   "source": [
    "x_train_w2v = np.array([average_word_vectors(text, w2v_model, 300) for text in tokenized_train])\n",
    "x_test_w2v = np.array([average_word_vectors(text, w2v_model, 300) for text in tokenized_test])"
   ]
  },
  {
   "cell_type": "code",
   "execution_count": 114,
   "id": "a3a91f4b",
   "metadata": {},
   "outputs": [
    {
     "name": "stdout",
     "output_type": "stream",
     "text": [
      "Train data: (14880, 300)\n",
      "Test data: (3720, 300)\n"
     ]
    }
   ],
   "source": [
    "print(f\"Train data: {x_train_w2v.shape}\")\n",
    "print(f\"Test data: {x_test_w2v.shape}\")"
   ]
  },
  {
   "cell_type": "code",
   "execution_count": 154,
   "id": "86e1ded9",
   "metadata": {},
   "outputs": [],
   "source": [
    "tfidf_ngram = TfidfVectorizer(ngram_range=(1, 2), max_features=5000)\n",
    "x_train_tfidf_ngram = tfidf.fit_transform(x_train)\n",
    "x_test_tfidf_ngram = tfidf.transform(x_test)"
   ]
  },
  {
   "cell_type": "code",
   "execution_count": 155,
   "id": "34ef27af",
   "metadata": {},
   "outputs": [
    {
     "name": "stdout",
     "output_type": "stream",
     "text": [
      "Train data: (14880, 5000)\n",
      "Test data: (3720, 5000)\n"
     ]
    }
   ],
   "source": [
    "print(f\"Train data: {x_train_tfidf_ngram.shape}\")\n",
    "print(f\"Test data: {x_test_tfidf_ngram.shape}\")"
   ]
  },
  {
   "cell_type": "markdown",
   "id": "338d8e48",
   "metadata": {},
   "source": [
    "## Train Model"
   ]
  },
  {
   "cell_type": "markdown",
   "id": "0af8610c",
   "metadata": {},
   "source": [
    "**1. Logistic Regression**"
   ]
  },
  {
   "cell_type": "code",
   "execution_count": 117,
   "id": "1d789d1b",
   "metadata": {},
   "outputs": [],
   "source": [
    "from sklearn.linear_model import LogisticRegression\n",
    "\n",
    "lr = LogisticRegression(max_iter=1000, multi_class='multinomial')"
   ]
  },
  {
   "cell_type": "markdown",
   "id": "92ee2d44",
   "metadata": {},
   "source": [
    "**2. Random Forest**"
   ]
  },
  {
   "cell_type": "code",
   "execution_count": 118,
   "id": "6363bd78",
   "metadata": {},
   "outputs": [],
   "source": [
    "from sklearn.ensemble import RandomForestClassifier\n",
    "\n",
    "rf = RandomForestClassifier(n_estimators=100, random_state=42)"
   ]
  },
  {
   "cell_type": "code",
   "execution_count": 119,
   "id": "04b1f46b",
   "metadata": {},
   "outputs": [
    {
     "name": "stdout",
     "output_type": "stream",
     "text": [
      "TF-IDF + LR Accuracy: 0.8516129032258064\n"
     ]
    }
   ],
   "source": [
    "#PUT\n",
    "lr.fit(x_train_tfidf, y_train)\n",
    "print(\"TF-IDF + LR Accuracy:\", lr.score(x_test_tfidf, y_test))"
   ]
  },
  {
   "cell_type": "code",
   "execution_count": 120,
   "id": "6c592b36",
   "metadata": {},
   "outputs": [
    {
     "name": "stdout",
     "output_type": "stream",
     "text": [
      "TF-IDF + RF Accuracy: 0.7768817204301075\n"
     ]
    }
   ],
   "source": [
    "rf.fit(x_train_tfidf, y_train)\n",
    "print(\"TF-IDF + RF Accuracy:\", rf.score(x_test_tfidf, y_test))"
   ]
  },
  {
   "cell_type": "code",
   "execution_count": 127,
   "id": "1aa6fdce",
   "metadata": {},
   "outputs": [
    {
     "name": "stdout",
     "output_type": "stream",
     "text": [
      "Word2Vec + LR Accuracy: 0.7123655913978495\n"
     ]
    }
   ],
   "source": [
    "lr.fit(x_train_w2v, y_train)\n",
    "print(\"Word2Vec + LR Accuracy:\", lr.score(x_test_w2v, y_test))"
   ]
  },
  {
   "cell_type": "code",
   "execution_count": 128,
   "id": "057da0d7",
   "metadata": {},
   "outputs": [
    {
     "name": "stdout",
     "output_type": "stream",
     "text": [
      "Word2Vec + RF Accuracy: 0.7247311827956989\n"
     ]
    }
   ],
   "source": [
    "rf.fit(x_train_w2v, y_train)\n",
    "print(\"Word2Vec + RF Accuracy:\", rf.score(x_test_w2v, y_test))"
   ]
  },
  {
   "cell_type": "code",
   "execution_count": 156,
   "id": "781592bd",
   "metadata": {},
   "outputs": [
    {
     "name": "stdout",
     "output_type": "stream",
     "text": [
      "N-grams + LR Accuracy: 0.8516129032258064\n"
     ]
    }
   ],
   "source": [
    "lr.fit(x_train_tfidf_ngram, y_train)\n",
    "print(\"N-grams + LR Accuracy:\", lr.score(x_test_tfidf_ngram, y_test))"
   ]
  },
  {
   "cell_type": "code",
   "execution_count": 157,
   "id": "a2f0d1d6",
   "metadata": {},
   "outputs": [
    {
     "name": "stdout",
     "output_type": "stream",
     "text": [
      "N-grams + RF Accuracy: 0.7768817204301075\n"
     ]
    }
   ],
   "source": [
    "rf.fit(x_train_tfidf_ngram, y_train)\n",
    "print(\"N-grams + RF Accuracy:\", rf.score(x_test_tfidf_ngram, y_test))"
   ]
  },
  {
   "cell_type": "code",
   "execution_count": 164,
   "id": "5428c2a7",
   "metadata": {},
   "outputs": [
    {
     "name": "stderr",
     "output_type": "stream",
     "text": [
      "2025-05-07 18:50:14.555923: W tensorflow/compiler/mlir/tools/kernel_gen/tf_gpu_runtime_wrappers.cc:40] 'cuModuleLoadData(&module, data)' failed with 'CUDA_ERROR_UNSUPPORTED_PTX_VERSION'\n",
      "\n",
      "2025-05-07 18:50:14.555946: W tensorflow/compiler/mlir/tools/kernel_gen/tf_gpu_runtime_wrappers.cc:40] 'cuModuleGetFunction(&function, module, kernel_name)' failed with 'CUDA_ERROR_INVALID_HANDLE'\n",
      "\n",
      "2025-05-07 18:50:14.555954: W tensorflow/core/framework/op_kernel.cc:1844] INTERNAL: 'cuLaunchKernel(function, gridX, gridY, gridZ, blockX, blockY, blockZ, 0, reinterpret_cast<CUstream>(stream), params, nullptr)' failed with 'CUDA_ERROR_INVALID_HANDLE'\n"
     ]
    },
    {
     "ename": "InternalError",
     "evalue": "{{function_node __wrapped__Cast_device_/job:localhost/replica:0/task:0/device:GPU:0}} 'cuLaunchKernel(function, gridX, gridY, gridZ, blockX, blockY, blockZ, 0, reinterpret_cast<CUstream>(stream), params, nullptr)' failed with 'CUDA_ERROR_INVALID_HANDLE' [Op:Cast] name: ",
     "output_type": "error",
     "traceback": [
      "\u001b[0;31m---------------------------------------------------------------------------\u001b[0m",
      "\u001b[0;31mInternalError\u001b[0m                             Traceback (most recent call last)",
      "Cell \u001b[0;32mIn[164], line 5\u001b[0m\n\u001b[1;32m      2\u001b[0m \u001b[38;5;28;01mfrom\u001b[39;00m \u001b[38;5;21;01mtensorflow\u001b[39;00m\u001b[38;5;21;01m.\u001b[39;00m\u001b[38;5;21;01mkeras\u001b[39;00m\u001b[38;5;21;01m.\u001b[39;00m\u001b[38;5;21;01mlayers\u001b[39;00m \u001b[38;5;28;01mimport\u001b[39;00m Dense, Dropout\n\u001b[1;32m      4\u001b[0m model \u001b[38;5;241m=\u001b[39m Sequential()\n\u001b[0;32m----> 5\u001b[0m \u001b[43mmodel\u001b[49m\u001b[38;5;241;43m.\u001b[39;49m\u001b[43madd\u001b[49m\u001b[43m(\u001b[49m\u001b[43mDense\u001b[49m\u001b[43m(\u001b[49m\u001b[38;5;241;43m128\u001b[39;49m\u001b[43m,\u001b[49m\u001b[43m \u001b[49m\u001b[43mactivation\u001b[49m\u001b[38;5;241;43m=\u001b[39;49m\u001b[38;5;124;43m'\u001b[39;49m\u001b[38;5;124;43mrelu\u001b[39;49m\u001b[38;5;124;43m'\u001b[39;49m\u001b[43m,\u001b[49m\u001b[43m \u001b[49m\u001b[43minput_shape\u001b[49m\u001b[38;5;241;43m=\u001b[39;49m\u001b[43m(\u001b[49m\u001b[43mx_train_w2v\u001b[49m\u001b[38;5;241;43m.\u001b[39;49m\u001b[43mshape\u001b[49m\u001b[43m[\u001b[49m\u001b[38;5;241;43m1\u001b[39;49m\u001b[43m]\u001b[49m\u001b[43m,\u001b[49m\u001b[43m)\u001b[49m\u001b[43m)\u001b[49m\u001b[43m)\u001b[49m\n\u001b[1;32m      6\u001b[0m model\u001b[38;5;241m.\u001b[39madd(Dropout(\u001b[38;5;241m0.5\u001b[39m))\n\u001b[1;32m      7\u001b[0m model\u001b[38;5;241m.\u001b[39madd(Dense(\u001b[38;5;241m3\u001b[39m, activation\u001b[38;5;241m=\u001b[39m\u001b[38;5;124m'\u001b[39m\u001b[38;5;124msoftmax\u001b[39m\u001b[38;5;124m'\u001b[39m))  \u001b[38;5;66;03m# 3 classes: positive, negative, neutral\u001b[39;00m\n",
      "File \u001b[0;32m/usr/local/lib/python3.10/dist-packages/keras/src/models/sequential.py:122\u001b[0m, in \u001b[0;36mSequential.add\u001b[0;34m(self, layer, rebuild)\u001b[0m\n\u001b[1;32m    120\u001b[0m \u001b[38;5;28mself\u001b[39m\u001b[38;5;241m.\u001b[39m_layers\u001b[38;5;241m.\u001b[39mappend(layer)\n\u001b[1;32m    121\u001b[0m \u001b[38;5;28;01mif\u001b[39;00m rebuild:\n\u001b[0;32m--> 122\u001b[0m     \u001b[38;5;28;43mself\u001b[39;49m\u001b[38;5;241;43m.\u001b[39;49m\u001b[43m_maybe_rebuild\u001b[49m\u001b[43m(\u001b[49m\u001b[43m)\u001b[49m\n\u001b[1;32m    123\u001b[0m \u001b[38;5;28;01melse\u001b[39;00m:\n\u001b[1;32m    124\u001b[0m     \u001b[38;5;28mself\u001b[39m\u001b[38;5;241m.\u001b[39mbuilt \u001b[38;5;241m=\u001b[39m \u001b[38;5;28;01mFalse\u001b[39;00m\n",
      "File \u001b[0;32m/usr/local/lib/python3.10/dist-packages/keras/src/models/sequential.py:149\u001b[0m, in \u001b[0;36mSequential._maybe_rebuild\u001b[0;34m(self)\u001b[0m\n\u001b[1;32m    147\u001b[0m \u001b[38;5;28;01mif\u001b[39;00m \u001b[38;5;28misinstance\u001b[39m(\u001b[38;5;28mself\u001b[39m\u001b[38;5;241m.\u001b[39m_layers[\u001b[38;5;241m0\u001b[39m], InputLayer) \u001b[38;5;129;01mand\u001b[39;00m \u001b[38;5;28mlen\u001b[39m(\u001b[38;5;28mself\u001b[39m\u001b[38;5;241m.\u001b[39m_layers) \u001b[38;5;241m>\u001b[39m \u001b[38;5;241m1\u001b[39m:\n\u001b[1;32m    148\u001b[0m     input_shape \u001b[38;5;241m=\u001b[39m \u001b[38;5;28mself\u001b[39m\u001b[38;5;241m.\u001b[39m_layers[\u001b[38;5;241m0\u001b[39m]\u001b[38;5;241m.\u001b[39mbatch_shape\n\u001b[0;32m--> 149\u001b[0m     \u001b[38;5;28;43mself\u001b[39;49m\u001b[38;5;241;43m.\u001b[39;49m\u001b[43mbuild\u001b[49m\u001b[43m(\u001b[49m\u001b[43minput_shape\u001b[49m\u001b[43m)\u001b[49m\n\u001b[1;32m    150\u001b[0m \u001b[38;5;28;01melif\u001b[39;00m \u001b[38;5;28mhasattr\u001b[39m(\u001b[38;5;28mself\u001b[39m\u001b[38;5;241m.\u001b[39m_layers[\u001b[38;5;241m0\u001b[39m], \u001b[38;5;124m\"\u001b[39m\u001b[38;5;124minput_shape\u001b[39m\u001b[38;5;124m\"\u001b[39m) \u001b[38;5;129;01mand\u001b[39;00m \u001b[38;5;28mlen\u001b[39m(\u001b[38;5;28mself\u001b[39m\u001b[38;5;241m.\u001b[39m_layers) \u001b[38;5;241m>\u001b[39m \u001b[38;5;241m1\u001b[39m:\n\u001b[1;32m    151\u001b[0m     \u001b[38;5;66;03m# We can build the Sequential model if the first layer has the\u001b[39;00m\n\u001b[1;32m    152\u001b[0m     \u001b[38;5;66;03m# `input_shape` property. This is most commonly found in Functional\u001b[39;00m\n\u001b[1;32m    153\u001b[0m     \u001b[38;5;66;03m# model.\u001b[39;00m\n\u001b[1;32m    154\u001b[0m     input_shape \u001b[38;5;241m=\u001b[39m \u001b[38;5;28mself\u001b[39m\u001b[38;5;241m.\u001b[39m_layers[\u001b[38;5;241m0\u001b[39m]\u001b[38;5;241m.\u001b[39minput_shape\n",
      "File \u001b[0;32m/usr/local/lib/python3.10/dist-packages/keras/src/layers/layer.py:230\u001b[0m, in \u001b[0;36mLayer.__new__.<locals>.build_wrapper\u001b[0;34m(*args, **kwargs)\u001b[0m\n\u001b[1;32m    228\u001b[0m \u001b[38;5;28;01mwith\u001b[39;00m obj\u001b[38;5;241m.\u001b[39m_open_name_scope():\n\u001b[1;32m    229\u001b[0m     obj\u001b[38;5;241m.\u001b[39m_path \u001b[38;5;241m=\u001b[39m current_path()\n\u001b[0;32m--> 230\u001b[0m     \u001b[43moriginal_build_method\u001b[49m\u001b[43m(\u001b[49m\u001b[38;5;241;43m*\u001b[39;49m\u001b[43margs\u001b[49m\u001b[43m,\u001b[49m\u001b[43m \u001b[49m\u001b[38;5;241;43m*\u001b[39;49m\u001b[38;5;241;43m*\u001b[39;49m\u001b[43mkwargs\u001b[49m\u001b[43m)\u001b[49m\n\u001b[1;32m    231\u001b[0m \u001b[38;5;66;03m# Record build config.\u001b[39;00m\n\u001b[1;32m    232\u001b[0m signature \u001b[38;5;241m=\u001b[39m inspect\u001b[38;5;241m.\u001b[39msignature(original_build_method)\n",
      "File \u001b[0;32m/usr/local/lib/python3.10/dist-packages/keras/src/models/sequential.py:195\u001b[0m, in \u001b[0;36mSequential.build\u001b[0;34m(self, input_shape)\u001b[0m\n\u001b[1;32m    193\u001b[0m \u001b[38;5;28;01mfor\u001b[39;00m layer \u001b[38;5;129;01min\u001b[39;00m \u001b[38;5;28mself\u001b[39m\u001b[38;5;241m.\u001b[39m_layers[\u001b[38;5;241m1\u001b[39m:]:\n\u001b[1;32m    194\u001b[0m     \u001b[38;5;28;01mtry\u001b[39;00m:\n\u001b[0;32m--> 195\u001b[0m         x \u001b[38;5;241m=\u001b[39m \u001b[43mlayer\u001b[49m\u001b[43m(\u001b[49m\u001b[43mx\u001b[49m\u001b[43m)\u001b[49m\n\u001b[1;32m    196\u001b[0m     \u001b[38;5;28;01mexcept\u001b[39;00m \u001b[38;5;167;01mNotImplementedError\u001b[39;00m:\n\u001b[1;32m    197\u001b[0m         \u001b[38;5;66;03m# Can happen if shape inference is not implemented.\u001b[39;00m\n\u001b[1;32m    198\u001b[0m         \u001b[38;5;66;03m# TODO: consider reverting inbound nodes on layers processed.\u001b[39;00m\n\u001b[1;32m    199\u001b[0m         \u001b[38;5;28;01mreturn\u001b[39;00m\n",
      "File \u001b[0;32m/usr/local/lib/python3.10/dist-packages/keras/src/utils/traceback_utils.py:122\u001b[0m, in \u001b[0;36mfilter_traceback.<locals>.error_handler\u001b[0;34m(*args, **kwargs)\u001b[0m\n\u001b[1;32m    119\u001b[0m     filtered_tb \u001b[38;5;241m=\u001b[39m _process_traceback_frames(e\u001b[38;5;241m.\u001b[39m__traceback__)\n\u001b[1;32m    120\u001b[0m     \u001b[38;5;66;03m# To get the full stack trace, call:\u001b[39;00m\n\u001b[1;32m    121\u001b[0m     \u001b[38;5;66;03m# `keras.config.disable_traceback_filtering()`\u001b[39;00m\n\u001b[0;32m--> 122\u001b[0m     \u001b[38;5;28;01mraise\u001b[39;00m e\u001b[38;5;241m.\u001b[39mwith_traceback(filtered_tb) \u001b[38;5;28;01mfrom\u001b[39;00m \u001b[38;5;28;01mNone\u001b[39;00m\n\u001b[1;32m    123\u001b[0m \u001b[38;5;28;01mfinally\u001b[39;00m:\n\u001b[1;32m    124\u001b[0m     \u001b[38;5;28;01mdel\u001b[39;00m filtered_tb\n",
      "File \u001b[0;32m/usr/local/lib/python3.10/dist-packages/keras/src/backend/tensorflow/core.py:139\u001b[0m, in \u001b[0;36mconvert_to_tensor\u001b[0;34m(x, dtype, sparse, ragged)\u001b[0m\n\u001b[1;32m    134\u001b[0m     \u001b[38;5;28;01mif\u001b[39;00m dtype \u001b[38;5;241m==\u001b[39m \u001b[38;5;124m\"\u001b[39m\u001b[38;5;124mbool\u001b[39m\u001b[38;5;124m\"\u001b[39m \u001b[38;5;129;01mor\u001b[39;00m is_int_dtype(dtype):\n\u001b[1;32m    135\u001b[0m         \u001b[38;5;66;03m# TensorFlow conversion is stricter than other backends, it does not\u001b[39;00m\n\u001b[1;32m    136\u001b[0m         \u001b[38;5;66;03m# allow ints for bools or floats for ints. We convert without dtype\u001b[39;00m\n\u001b[1;32m    137\u001b[0m         \u001b[38;5;66;03m# and cast instead.\u001b[39;00m\n\u001b[1;32m    138\u001b[0m         x \u001b[38;5;241m=\u001b[39m tf\u001b[38;5;241m.\u001b[39mconvert_to_tensor(x)\n\u001b[0;32m--> 139\u001b[0m         \u001b[38;5;28;01mreturn\u001b[39;00m \u001b[43mtf\u001b[49m\u001b[38;5;241;43m.\u001b[39;49m\u001b[43mcast\u001b[49m\u001b[43m(\u001b[49m\u001b[43mx\u001b[49m\u001b[43m,\u001b[49m\u001b[43m \u001b[49m\u001b[43mdtype\u001b[49m\u001b[43m)\u001b[49m\n\u001b[1;32m    140\u001b[0m     \u001b[38;5;28;01mreturn\u001b[39;00m tf\u001b[38;5;241m.\u001b[39mconvert_to_tensor(x, dtype\u001b[38;5;241m=\u001b[39mdtype)\n\u001b[1;32m    141\u001b[0m \u001b[38;5;28;01melif\u001b[39;00m dtype \u001b[38;5;129;01mis\u001b[39;00m \u001b[38;5;129;01mnot\u001b[39;00m \u001b[38;5;28;01mNone\u001b[39;00m \u001b[38;5;129;01mand\u001b[39;00m \u001b[38;5;129;01mnot\u001b[39;00m x\u001b[38;5;241m.\u001b[39mdtype \u001b[38;5;241m==\u001b[39m dtype:\n",
      "\u001b[0;31mInternalError\u001b[0m: {{function_node __wrapped__Cast_device_/job:localhost/replica:0/task:0/device:GPU:0}} 'cuLaunchKernel(function, gridX, gridY, gridZ, blockX, blockY, blockZ, 0, reinterpret_cast<CUstream>(stream), params, nullptr)' failed with 'CUDA_ERROR_INVALID_HANDLE' [Op:Cast] name: "
     ]
    }
   ],
   "source": [
    "from tensorflow.keras.models import Sequential\n",
    "from tensorflow.keras.layers import Dense, Dropout\n",
    "\n",
    "model = Sequential()\n",
    "model.add(Dense(128, activation='relu', input_shape=(x_train_w2v.shape[1],)))\n",
    "model.add(Dropout(0.5))\n",
    "model.add(Dense(3, activation='softmax'))  # 3 classes: positive, negative, neutral\n",
    "model.compile(optimizer='adam', loss='sparse_categorical_crossentropy', metrics=['accuracy'])\n",
    "model.fit(X_train_w2v, y_train_encoded, epochs=10, batch_size=32)"
   ]
  },
  {
   "cell_type": "code",
   "execution_count": 163,
   "id": "cacde72b",
   "metadata": {},
   "outputs": [
    {
     "name": "stdout",
     "output_type": "stream",
     "text": [
      "[PhysicalDevice(name='/physical_device:GPU:0', device_type='GPU')]\n"
     ]
    }
   ],
   "source": [
    "import tensorflow as tf; print(tf.config.list_physical_devices('GPU'))"
   ]
  },
  {
   "cell_type": "code",
   "execution_count": null,
   "id": "8b03e9fe",
   "metadata": {},
   "outputs": [],
   "source": []
  }
 ],
 "metadata": {
  "kernelspec": {
   "display_name": "Python 3 (ipykernel)",
   "language": "python",
   "name": "python3"
  },
  "language_info": {
   "codemirror_mode": {
    "name": "ipython",
    "version": 3
   },
   "file_extension": ".py",
   "mimetype": "text/x-python",
   "name": "python",
   "nbconvert_exporter": "python",
   "pygments_lexer": "ipython3",
   "version": "3.10.12"
  }
 },
 "nbformat": 4,
 "nbformat_minor": 5
}
